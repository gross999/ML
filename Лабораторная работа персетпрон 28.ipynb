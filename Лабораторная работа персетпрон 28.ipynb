{
 "cells": [
  {
   "cell_type": "code",
   "execution_count": 1,
   "metadata": {
    "tags": []
   },
   "outputs": [],
   "source": [
    "# numpy, matplotlib, seaborn\n",
    "import pandas as pd\n",
    "import numpy as np\n",
    "import matplotlib.pyplot as plt\n",
    "from matplotlib.colors import ListedColormap\n",
    "import seaborn as sns\n",
    "sns.set_style('whitegrid')\n",
    "%matplotlib inline\n",
    "\n",
    "# sklearn\n",
    "from sklearn import datasets\n",
    "from sklearn.linear_model import Perceptron\n",
    "from sklearn.neural_network import MLPClassifier\n",
    "from sklearn.model_selection import train_test_split\n",
    "from sklearn.preprocessing import StandardScaler\n",
    "from sklearn.metrics import accuracy_score\n",
    "from sklearn.metrics import confusion_matrix\n"
   ]
  },
  {
   "cell_type": "code",
   "execution_count": 2,
   "metadata": {
    "collapsed": false,
    "jupyter": {
     "outputs_hidden": false
    },
    "tags": []
   },
   "outputs": [],
   "source": [
    "# нужно разбить цены на данные классы\n",
    "classes =  [(0, 12000),\n",
    "           (12000, 46000)]\n",
    "\n",
    "dataset = pd.read_csv('car19.csv')\n",
    "price = dataset[['price']]\n",
    "categories = []\n",
    "doneFlag = False\n",
    "for _, x in price.iterrows():\n",
    "    for i, c in enumerate(classes):\n",
    "\n",
    "        if c[0] <= x['price'] < c[1]:\n",
    "            categories.append(i)\n",
    "            breakFlag = True\n",
    "            break\n",
    "\n",
    "    if doneFlag:\n",
    "        continue\n",
    "dataset['Категория'] = categories\n",
    "# берём колонки которые извлекли в 13 лабе\n",
    "#dataset = dataset[['wheelbase', 'carlength', 'enginesize', 'compressionratio',\n",
    " #      'horsepower', 'Категория']]\n"
   ]
  },
  {
   "cell_type": "code",
   "execution_count": 3,
   "metadata": {
    "tags": []
   },
   "outputs": [],
   "source": [
    "dataset = dataset.drop(columns=['car_ID'])"
   ]
  },
  {
   "cell_type": "code",
   "execution_count": 4,
   "metadata": {
    "tags": []
   },
   "outputs": [],
   "source": [
    "dataset = dataset.drop(columns=['symboling'])"
   ]
  },
  {
   "cell_type": "code",
   "execution_count": 5,
   "metadata": {},
   "outputs": [],
   "source": [
    "dataset = dataset.drop(columns=['highwaympg'])"
   ]
  },
  {
   "cell_type": "code",
   "execution_count": 6,
   "metadata": {},
   "outputs": [],
   "source": [
    "dataset = dataset.drop(columns=['citympg'])"
   ]
  },
  {
   "cell_type": "code",
   "execution_count": 7,
   "metadata": {},
   "outputs": [],
   "source": [
    "dataset = dataset.drop(columns=['peakrpm'])"
   ]
  },
  {
   "cell_type": "code",
   "execution_count": 8,
   "metadata": {
    "tags": []
   },
   "outputs": [
    {
     "data": {
      "text/html": [
       "<div>\n",
       "<style scoped>\n",
       "    .dataframe tbody tr th:only-of-type {\n",
       "        vertical-align: middle;\n",
       "    }\n",
       "\n",
       "    .dataframe tbody tr th {\n",
       "        vertical-align: top;\n",
       "    }\n",
       "\n",
       "    .dataframe thead th {\n",
       "        text-align: right;\n",
       "    }\n",
       "</style>\n",
       "<table border=\"1\" class=\"dataframe\">\n",
       "  <thead>\n",
       "    <tr style=\"text-align: right;\">\n",
       "      <th></th>\n",
       "      <th>wheelbase</th>\n",
       "      <th>carlength</th>\n",
       "      <th>carwidth</th>\n",
       "      <th>carheight</th>\n",
       "      <th>curbweight</th>\n",
       "      <th>enginesize</th>\n",
       "      <th>boreratio</th>\n",
       "      <th>stroke</th>\n",
       "      <th>compressionratio</th>\n",
       "      <th>horsepower</th>\n",
       "      <th>price</th>\n",
       "      <th>Категория</th>\n",
       "    </tr>\n",
       "  </thead>\n",
       "  <tbody>\n",
       "    <tr>\n",
       "      <th>0</th>\n",
       "      <td>88.6</td>\n",
       "      <td>168.8</td>\n",
       "      <td>64.1</td>\n",
       "      <td>48.8</td>\n",
       "      <td>2548</td>\n",
       "      <td>130</td>\n",
       "      <td>3.47</td>\n",
       "      <td>2.68</td>\n",
       "      <td>9.0</td>\n",
       "      <td>111</td>\n",
       "      <td>13495.6</td>\n",
       "      <td>1</td>\n",
       "    </tr>\n",
       "    <tr>\n",
       "      <th>1</th>\n",
       "      <td>88.6</td>\n",
       "      <td>168.8</td>\n",
       "      <td>64.1</td>\n",
       "      <td>48.8</td>\n",
       "      <td>2548</td>\n",
       "      <td>130</td>\n",
       "      <td>3.47</td>\n",
       "      <td>2.68</td>\n",
       "      <td>9.0</td>\n",
       "      <td>111</td>\n",
       "      <td>16500.1</td>\n",
       "      <td>1</td>\n",
       "    </tr>\n",
       "    <tr>\n",
       "      <th>2</th>\n",
       "      <td>94.5</td>\n",
       "      <td>171.2</td>\n",
       "      <td>65.5</td>\n",
       "      <td>52.4</td>\n",
       "      <td>2823</td>\n",
       "      <td>152</td>\n",
       "      <td>2.68</td>\n",
       "      <td>3.47</td>\n",
       "      <td>9.0</td>\n",
       "      <td>154</td>\n",
       "      <td>16500.7</td>\n",
       "      <td>1</td>\n",
       "    </tr>\n",
       "    <tr>\n",
       "      <th>3</th>\n",
       "      <td>99.8</td>\n",
       "      <td>176.6</td>\n",
       "      <td>66.2</td>\n",
       "      <td>54.3</td>\n",
       "      <td>2337</td>\n",
       "      <td>109</td>\n",
       "      <td>3.19</td>\n",
       "      <td>3.40</td>\n",
       "      <td>10.0</td>\n",
       "      <td>102</td>\n",
       "      <td>13950.2</td>\n",
       "      <td>1</td>\n",
       "    </tr>\n",
       "    <tr>\n",
       "      <th>4</th>\n",
       "      <td>99.4</td>\n",
       "      <td>176.6</td>\n",
       "      <td>66.4</td>\n",
       "      <td>54.3</td>\n",
       "      <td>2824</td>\n",
       "      <td>136</td>\n",
       "      <td>3.19</td>\n",
       "      <td>3.40</td>\n",
       "      <td>8.0</td>\n",
       "      <td>115</td>\n",
       "      <td>17450.8</td>\n",
       "      <td>1</td>\n",
       "    </tr>\n",
       "    <tr>\n",
       "      <th>...</th>\n",
       "      <td>...</td>\n",
       "      <td>...</td>\n",
       "      <td>...</td>\n",
       "      <td>...</td>\n",
       "      <td>...</td>\n",
       "      <td>...</td>\n",
       "      <td>...</td>\n",
       "      <td>...</td>\n",
       "      <td>...</td>\n",
       "      <td>...</td>\n",
       "      <td>...</td>\n",
       "      <td>...</td>\n",
       "    </tr>\n",
       "    <tr>\n",
       "      <th>95</th>\n",
       "      <td>100.4</td>\n",
       "      <td>184.6</td>\n",
       "      <td>66.5</td>\n",
       "      <td>55.1</td>\n",
       "      <td>3060</td>\n",
       "      <td>181</td>\n",
       "      <td>3.43</td>\n",
       "      <td>3.27</td>\n",
       "      <td>9.0</td>\n",
       "      <td>152</td>\n",
       "      <td>13499.7</td>\n",
       "      <td>1</td>\n",
       "    </tr>\n",
       "    <tr>\n",
       "      <th>96</th>\n",
       "      <td>91.3</td>\n",
       "      <td>170.7</td>\n",
       "      <td>67.9</td>\n",
       "      <td>49.7</td>\n",
       "      <td>3071</td>\n",
       "      <td>181</td>\n",
       "      <td>3.43</td>\n",
       "      <td>3.27</td>\n",
       "      <td>9.0</td>\n",
       "      <td>160</td>\n",
       "      <td>17199.7</td>\n",
       "      <td>1</td>\n",
       "    </tr>\n",
       "    <tr>\n",
       "      <th>97</th>\n",
       "      <td>91.3</td>\n",
       "      <td>170.7</td>\n",
       "      <td>67.9</td>\n",
       "      <td>49.7</td>\n",
       "      <td>3139</td>\n",
       "      <td>181</td>\n",
       "      <td>3.43</td>\n",
       "      <td>3.27</td>\n",
       "      <td>7.8</td>\n",
       "      <td>200</td>\n",
       "      <td>19699.7</td>\n",
       "      <td>1</td>\n",
       "    </tr>\n",
       "    <tr>\n",
       "      <th>98</th>\n",
       "      <td>99.2</td>\n",
       "      <td>178.5</td>\n",
       "      <td>67.9</td>\n",
       "      <td>49.7</td>\n",
       "      <td>3139</td>\n",
       "      <td>181</td>\n",
       "      <td>3.43</td>\n",
       "      <td>3.27</td>\n",
       "      <td>9.0</td>\n",
       "      <td>160</td>\n",
       "      <td>18399.7</td>\n",
       "      <td>1</td>\n",
       "    </tr>\n",
       "    <tr>\n",
       "      <th>99</th>\n",
       "      <td>107.9</td>\n",
       "      <td>186.7</td>\n",
       "      <td>68.4</td>\n",
       "      <td>56.7</td>\n",
       "      <td>3020</td>\n",
       "      <td>120</td>\n",
       "      <td>3.46</td>\n",
       "      <td>3.19</td>\n",
       "      <td>8.4</td>\n",
       "      <td>97</td>\n",
       "      <td>11900.7</td>\n",
       "      <td>0</td>\n",
       "    </tr>\n",
       "  </tbody>\n",
       "</table>\n",
       "<p>100 rows × 12 columns</p>\n",
       "</div>"
      ],
      "text/plain": [
       "    wheelbase  carlength  carwidth  carheight  curbweight  enginesize  \\\n",
       "0        88.6      168.8      64.1       48.8        2548         130   \n",
       "1        88.6      168.8      64.1       48.8        2548         130   \n",
       "2        94.5      171.2      65.5       52.4        2823         152   \n",
       "3        99.8      176.6      66.2       54.3        2337         109   \n",
       "4        99.4      176.6      66.4       54.3        2824         136   \n",
       "..        ...        ...       ...        ...         ...         ...   \n",
       "95      100.4      184.6      66.5       55.1        3060         181   \n",
       "96       91.3      170.7      67.9       49.7        3071         181   \n",
       "97       91.3      170.7      67.9       49.7        3139         181   \n",
       "98       99.2      178.5      67.9       49.7        3139         181   \n",
       "99      107.9      186.7      68.4       56.7        3020         120   \n",
       "\n",
       "    boreratio  stroke  compressionratio  horsepower    price  Категория  \n",
       "0        3.47    2.68               9.0         111  13495.6          1  \n",
       "1        3.47    2.68               9.0         111  16500.1          1  \n",
       "2        2.68    3.47               9.0         154  16500.7          1  \n",
       "3        3.19    3.40              10.0         102  13950.2          1  \n",
       "4        3.19    3.40               8.0         115  17450.8          1  \n",
       "..        ...     ...               ...         ...      ...        ...  \n",
       "95       3.43    3.27               9.0         152  13499.7          1  \n",
       "96       3.43    3.27               9.0         160  17199.7          1  \n",
       "97       3.43    3.27               7.8         200  19699.7          1  \n",
       "98       3.43    3.27               9.0         160  18399.7          1  \n",
       "99       3.46    3.19               8.4          97  11900.7          0  \n",
       "\n",
       "[100 rows x 12 columns]"
      ]
     },
     "execution_count": 8,
     "metadata": {},
     "output_type": "execute_result"
    }
   ],
   "source": [
    "dataset.head(100)"
   ]
  },
  {
   "cell_type": "code",
   "execution_count": 9,
   "metadata": {
    "collapsed": false,
    "jupyter": {
     "outputs_hidden": false
    },
    "tags": []
   },
   "outputs": [
    {
     "name": "stdout",
     "output_type": "stream",
     "text": [
      "     wheelbase  carlength  enginesize  compressionratio  horsepower\n",
      "0         88.6      168.8         130               9.0         111\n",
      "1         88.6      168.8         130               9.0         111\n",
      "2         94.5      171.2         152               9.0         154\n",
      "3         99.8      176.6         109              10.0         102\n",
      "4         99.4      176.6         136               8.0         115\n",
      "..         ...        ...         ...               ...         ...\n",
      "154      104.5      187.8         171               9.2         156\n",
      "155      104.5      187.8         161               9.2         156\n",
      "156       97.3      171.7         109               9.0          85\n",
      "157       94.5      159.3         109               8.5          90\n",
      "158       94.5      165.7         109               8.5          90\n",
      "\n",
      "[159 rows x 5 columns]\n"
     ]
    }
   ],
   "source": [
    "X = dataset[dataset.columns.drop(labels='Категория')]\n",
    "y = dataset[['Категория']]\n",
    "\n",
    "sc = StandardScaler()\n",
    "X = sc.fit_transform(X)\n",
    "X_cut = X[:, [0, 1, 5, 8, 9]]\n",
    "\n",
    "column_number = [0, 1, 5, 8, 9]\n",
    "selected_column = dataset.iloc[:, column_number]\n",
    "\n",
    "# Вывести выбранную колонку\n",
    "print(selected_column)"
   ]
  },
  {
   "cell_type": "code",
   "execution_count": 10,
   "metadata": {
    "collapsed": false,
    "jupyter": {
     "outputs_hidden": false
    },
    "tags": []
   },
   "outputs": [],
   "source": [
    "X_train, X_test, y_train, y_test = train_test_split(X, y, test_size = 0.3, random_state = 0)"
   ]
  },
  {
   "cell_type": "code",
   "execution_count": 11,
   "metadata": {
    "collapsed": false,
    "jupyter": {
     "outputs_hidden": false
    },
    "tags": []
   },
   "outputs": [
    {
     "name": "stdout",
     "output_type": "stream",
     "text": [
      "Iteration 1, loss = 0.61551023\n",
      "Iteration 2, loss = 0.59655895\n",
      "Iteration 3, loss = 0.57839273\n",
      "Iteration 4, loss = 0.56102291\n",
      "Iteration 5, loss = 0.54447244\n",
      "Iteration 6, loss = 0.52875588\n",
      "Iteration 7, loss = 0.51382138\n",
      "Iteration 8, loss = 0.49965409\n",
      "Iteration 9, loss = 0.48618200\n",
      "Iteration 10, loss = 0.47337226\n",
      "Iteration 11, loss = 0.46120927\n",
      "Iteration 12, loss = 0.44966804\n",
      "Iteration 13, loss = 0.43872070\n",
      "Iteration 14, loss = 0.42832465\n",
      "Iteration 15, loss = 0.41846702\n",
      "Iteration 16, loss = 0.40912137\n",
      "Iteration 17, loss = 0.40025426\n",
      "Iteration 18, loss = 0.39184076\n",
      "Iteration 19, loss = 0.38384473\n",
      "Iteration 20, loss = 0.37623189\n",
      "Iteration 21, loss = 0.36897914\n",
      "Iteration 22, loss = 0.36205815\n",
      "Iteration 23, loss = 0.35545695\n",
      "Iteration 24, loss = 0.34913946\n",
      "Iteration 25, loss = 0.34308702\n",
      "Iteration 26, loss = 0.33729988\n",
      "Iteration 27, loss = 0.33176191\n",
      "Iteration 28, loss = 0.32643971\n",
      "Iteration 29, loss = 0.32132546\n",
      "Iteration 30, loss = 0.31641016\n",
      "Iteration 31, loss = 0.31168691\n",
      "Iteration 32, loss = 0.30713661\n",
      "Iteration 33, loss = 0.30275395\n",
      "Iteration 34, loss = 0.29853252\n",
      "Iteration 35, loss = 0.29444974\n",
      "Iteration 36, loss = 0.29049886\n",
      "Iteration 37, loss = 0.28667280\n",
      "Iteration 38, loss = 0.28296600\n",
      "Iteration 39, loss = 0.27937460\n",
      "Iteration 40, loss = 0.27588917\n",
      "Iteration 41, loss = 0.27250766\n",
      "Iteration 42, loss = 0.26921469\n",
      "Iteration 43, loss = 0.26600540\n",
      "Iteration 44, loss = 0.26287926\n",
      "Iteration 45, loss = 0.25982910\n",
      "Iteration 46, loss = 0.25685225\n",
      "Iteration 47, loss = 0.25394373\n",
      "Iteration 48, loss = 0.25109969\n",
      "Iteration 49, loss = 0.24831968\n",
      "Iteration 50, loss = 0.24560301\n",
      "Iteration 51, loss = 0.24294715\n",
      "Iteration 52, loss = 0.24034673\n",
      "Iteration 53, loss = 0.23780135\n",
      "Iteration 54, loss = 0.23530852\n",
      "Iteration 55, loss = 0.23286939\n",
      "Iteration 56, loss = 0.23047972\n",
      "Iteration 57, loss = 0.22813718\n",
      "Iteration 58, loss = 0.22584082\n",
      "Iteration 59, loss = 0.22358691\n",
      "Iteration 60, loss = 0.22137398\n",
      "Iteration 61, loss = 0.21919936\n",
      "Iteration 62, loss = 0.21706483\n",
      "Iteration 63, loss = 0.21497062\n",
      "Iteration 64, loss = 0.21291498\n",
      "Iteration 65, loss = 0.21089634\n",
      "Iteration 66, loss = 0.20891290\n",
      "Iteration 67, loss = 0.20696165\n",
      "Iteration 68, loss = 0.20504634\n",
      "Iteration 69, loss = 0.20316356\n",
      "Iteration 70, loss = 0.20131531\n",
      "Iteration 71, loss = 0.19949795\n",
      "Iteration 72, loss = 0.19771114\n",
      "Iteration 73, loss = 0.19595762\n",
      "Iteration 74, loss = 0.19423090\n",
      "Iteration 75, loss = 0.19253210\n",
      "Iteration 76, loss = 0.19086160\n",
      "Iteration 77, loss = 0.18921609\n",
      "Iteration 78, loss = 0.18759917\n",
      "Iteration 79, loss = 0.18600847\n",
      "Iteration 80, loss = 0.18444081\n",
      "Iteration 81, loss = 0.18289733\n",
      "Iteration 82, loss = 0.18137582\n",
      "Iteration 83, loss = 0.17987432\n",
      "Iteration 84, loss = 0.17839691\n",
      "Iteration 85, loss = 0.17694099\n",
      "Iteration 86, loss = 0.17550584\n",
      "Iteration 87, loss = 0.17409186\n",
      "Iteration 88, loss = 0.17270187\n",
      "Iteration 89, loss = 0.17133346\n",
      "Iteration 90, loss = 0.16998648\n",
      "Iteration 91, loss = 0.16865909\n",
      "Iteration 92, loss = 0.16735200\n",
      "Iteration 93, loss = 0.16606476\n",
      "Iteration 94, loss = 0.16479461\n"
     ]
    },
    {
     "name": "stderr",
     "output_type": "stream",
     "text": [
      "C:\\Users\\gross\\anaconda3\\Lib\\site-packages\\sklearn\\neural_network\\_multilayer_perceptron.py:1102: DataConversionWarning: A column-vector y was passed when a 1d array was expected. Please change the shape of y to (n_samples, ), for example using ravel().\n",
      "  y = column_or_1d(y, warn=True)\n"
     ]
    },
    {
     "name": "stdout",
     "output_type": "stream",
     "text": [
      "Iteration 95, loss = 0.16354180\n",
      "Iteration 96, loss = 0.16230826\n",
      "Iteration 97, loss = 0.16109559\n",
      "Iteration 98, loss = 0.15990225\n",
      "Iteration 99, loss = 0.15872475\n",
      "Iteration 100, loss = 0.15755962\n",
      "Iteration 101, loss = 0.15641186\n",
      "Iteration 102, loss = 0.15528542\n",
      "Iteration 103, loss = 0.15417541\n",
      "Iteration 104, loss = 0.15308236\n",
      "Iteration 105, loss = 0.15200498\n",
      "Iteration 106, loss = 0.15094179\n",
      "Iteration 107, loss = 0.14989405\n",
      "Iteration 108, loss = 0.14886029\n",
      "Iteration 109, loss = 0.14783884\n",
      "Iteration 110, loss = 0.14682900\n",
      "Iteration 111, loss = 0.14583151\n",
      "Iteration 112, loss = 0.14484640\n",
      "Iteration 113, loss = 0.14387270\n",
      "Iteration 114, loss = 0.14291042\n",
      "Iteration 115, loss = 0.14195937\n",
      "Iteration 116, loss = 0.14102036\n",
      "Iteration 117, loss = 0.14009219\n",
      "Iteration 118, loss = 0.13918090\n",
      "Iteration 119, loss = 0.13827718\n",
      "Iteration 120, loss = 0.13738250\n",
      "Iteration 121, loss = 0.13649937\n",
      "Iteration 122, loss = 0.13562844\n",
      "Iteration 123, loss = 0.13476678\n",
      "Iteration 124, loss = 0.13391537\n",
      "Iteration 125, loss = 0.13307216\n",
      "Iteration 126, loss = 0.13223720\n",
      "Iteration 127, loss = 0.13141018\n",
      "Iteration 128, loss = 0.13058993\n",
      "Iteration 129, loss = 0.12977730\n",
      "Iteration 130, loss = 0.12897297\n",
      "Iteration 131, loss = 0.12817682\n",
      "Iteration 132, loss = 0.12738814\n",
      "Iteration 133, loss = 0.12660567\n",
      "Iteration 134, loss = 0.12583029\n",
      "Iteration 135, loss = 0.12506391\n",
      "Iteration 136, loss = 0.12430149\n",
      "Iteration 137, loss = 0.12354761\n",
      "Iteration 138, loss = 0.12279921\n",
      "Iteration 139, loss = 0.12205744\n",
      "Iteration 140, loss = 0.12131971\n",
      "Iteration 141, loss = 0.12058714\n",
      "Iteration 142, loss = 0.11985933\n",
      "Iteration 143, loss = 0.11913266\n",
      "Iteration 144, loss = 0.11840909\n",
      "Iteration 145, loss = 0.11768885\n",
      "Iteration 146, loss = 0.11697145\n",
      "Iteration 147, loss = 0.11625846\n",
      "Iteration 148, loss = 0.11554862\n",
      "Iteration 149, loss = 0.11484258\n",
      "Iteration 150, loss = 0.11414224\n",
      "Iteration 151, loss = 0.11344681\n",
      "Iteration 152, loss = 0.11275520\n",
      "Iteration 153, loss = 0.11206635\n",
      "Iteration 154, loss = 0.11138266\n",
      "Iteration 155, loss = 0.11070357\n",
      "Iteration 156, loss = 0.11002668\n",
      "Iteration 157, loss = 0.10935340\n",
      "Iteration 158, loss = 0.10868469\n",
      "Iteration 159, loss = 0.10802185\n",
      "Iteration 160, loss = 0.10736465\n",
      "Iteration 161, loss = 0.10671087\n",
      "Iteration 162, loss = 0.10606281\n",
      "Iteration 163, loss = 0.10542034\n",
      "Iteration 164, loss = 0.10478314\n",
      "Iteration 165, loss = 0.10415067\n",
      "Iteration 166, loss = 0.10352280\n",
      "Iteration 167, loss = 0.10290296\n",
      "Iteration 168, loss = 0.10228606\n",
      "Iteration 169, loss = 0.10167302\n",
      "Iteration 170, loss = 0.10106684\n",
      "Iteration 171, loss = 0.10046319\n",
      "Iteration 172, loss = 0.09986453\n",
      "Iteration 173, loss = 0.09926981\n",
      "Iteration 174, loss = 0.09867889\n",
      "Iteration 175, loss = 0.09808933\n",
      "Iteration 176, loss = 0.09750300\n",
      "Iteration 177, loss = 0.09692109\n",
      "Iteration 178, loss = 0.09634495\n",
      "Iteration 179, loss = 0.09577270\n",
      "Iteration 180, loss = 0.09520296\n",
      "Iteration 181, loss = 0.09463851\n",
      "Iteration 182, loss = 0.09407921\n",
      "Iteration 183, loss = 0.09352498\n",
      "Iteration 184, loss = 0.09297499\n",
      "Iteration 185, loss = 0.09243038\n",
      "Iteration 186, loss = 0.09188842\n",
      "Iteration 187, loss = 0.09135179\n",
      "Iteration 188, loss = 0.09081850\n",
      "Iteration 189, loss = 0.09029156\n",
      "Iteration 190, loss = 0.08976827\n",
      "Iteration 191, loss = 0.08924734\n",
      "Iteration 192, loss = 0.08872829\n",
      "Iteration 193, loss = 0.08821424\n",
      "Iteration 194, loss = 0.08770359\n",
      "Iteration 195, loss = 0.08719658\n",
      "Iteration 196, loss = 0.08669269\n",
      "Iteration 197, loss = 0.08619523\n",
      "Iteration 198, loss = 0.08570180\n",
      "Iteration 199, loss = 0.08521003\n",
      "Iteration 200, loss = 0.08471867\n",
      "Iteration 201, loss = 0.08423015\n",
      "Iteration 202, loss = 0.08374477\n",
      "Iteration 203, loss = 0.08326206\n",
      "Iteration 204, loss = 0.08278192\n",
      "Iteration 205, loss = 0.08230553\n",
      "Iteration 206, loss = 0.08183119\n",
      "Iteration 207, loss = 0.08135973\n",
      "Iteration 208, loss = 0.08089432\n",
      "Iteration 209, loss = 0.08043467\n",
      "Iteration 210, loss = 0.07997972\n",
      "Iteration 211, loss = 0.07953004\n",
      "Iteration 212, loss = 0.07908296\n",
      "Iteration 213, loss = 0.07864011\n",
      "Iteration 214, loss = 0.07819947\n",
      "Iteration 215, loss = 0.07776078\n",
      "Iteration 216, loss = 0.07732561\n",
      "Iteration 217, loss = 0.07689379\n",
      "Iteration 218, loss = 0.07646506\n",
      "Iteration 219, loss = 0.07603993\n",
      "Iteration 220, loss = 0.07561939\n",
      "Iteration 221, loss = 0.07520059\n",
      "Iteration 222, loss = 0.07478428\n",
      "Iteration 223, loss = 0.07437215\n",
      "Iteration 224, loss = 0.07396375\n",
      "Iteration 225, loss = 0.07355842\n",
      "Iteration 226, loss = 0.07315899\n",
      "Iteration 227, loss = 0.07276425\n",
      "Iteration 228, loss = 0.07237191\n",
      "Iteration 229, loss = 0.07198132\n",
      "Iteration 230, loss = 0.07159233\n",
      "Iteration 231, loss = 0.07120745\n",
      "Iteration 232, loss = 0.07082515\n",
      "Iteration 233, loss = 0.07044782\n",
      "Iteration 234, loss = 0.07007794\n",
      "Iteration 235, loss = 0.06971034\n",
      "Iteration 236, loss = 0.06934760\n",
      "Iteration 237, loss = 0.06898841\n",
      "Iteration 238, loss = 0.06863073\n",
      "Iteration 239, loss = 0.06827492\n",
      "Iteration 240, loss = 0.06792058\n",
      "Iteration 241, loss = 0.06756774\n",
      "Iteration 242, loss = 0.06721641\n",
      "Iteration 243, loss = 0.06686775\n",
      "Iteration 244, loss = 0.06652258\n",
      "Iteration 245, loss = 0.06618080\n",
      "Iteration 246, loss = 0.06584019\n",
      "Iteration 247, loss = 0.06550195\n",
      "Iteration 248, loss = 0.06516678\n",
      "Iteration 249, loss = 0.06483351\n",
      "Iteration 250, loss = 0.06450224\n",
      "Iteration 251, loss = 0.06417183\n",
      "Iteration 252, loss = 0.06384322\n",
      "Iteration 253, loss = 0.06351811\n",
      "Iteration 254, loss = 0.06319448\n",
      "Iteration 255, loss = 0.06287164\n",
      "Iteration 256, loss = 0.06255324\n",
      "Iteration 257, loss = 0.06223938\n",
      "Iteration 258, loss = 0.06192866\n",
      "Iteration 259, loss = 0.06161911\n",
      "Iteration 260, loss = 0.06131149\n",
      "Iteration 261, loss = 0.06100528\n",
      "Iteration 262, loss = 0.06070104\n",
      "Iteration 263, loss = 0.06039951\n",
      "Iteration 264, loss = 0.06009942\n",
      "Iteration 265, loss = 0.05980125\n",
      "Iteration 266, loss = 0.05950578\n",
      "Iteration 267, loss = 0.05921134\n",
      "Iteration 268, loss = 0.05891847\n",
      "Iteration 269, loss = 0.05862684\n",
      "Iteration 270, loss = 0.05833636\n",
      "Iteration 271, loss = 0.05804794\n",
      "Iteration 272, loss = 0.05776000\n",
      "Iteration 273, loss = 0.05747345\n",
      "Iteration 274, loss = 0.05718866\n",
      "Iteration 275, loss = 0.05690646\n",
      "Iteration 276, loss = 0.05662511\n",
      "Iteration 277, loss = 0.05634538\n",
      "Iteration 278, loss = 0.05606788\n",
      "Iteration 279, loss = 0.05579158\n",
      "Iteration 280, loss = 0.05551768\n",
      "Iteration 281, loss = 0.05524511\n",
      "Iteration 282, loss = 0.05497445\n",
      "Iteration 283, loss = 0.05470486\n",
      "Iteration 284, loss = 0.05443824\n",
      "Iteration 285, loss = 0.05417386\n",
      "Iteration 286, loss = 0.05391119\n",
      "Iteration 287, loss = 0.05364906\n",
      "Iteration 288, loss = 0.05338915\n",
      "Iteration 289, loss = 0.05313142\n",
      "Iteration 290, loss = 0.05287620\n",
      "Iteration 291, loss = 0.05262267\n",
      "Iteration 292, loss = 0.05237124\n",
      "Iteration 293, loss = 0.05212200\n",
      "Iteration 294, loss = 0.05187293\n",
      "Iteration 295, loss = 0.05162612\n",
      "Iteration 296, loss = 0.05138171\n",
      "Iteration 297, loss = 0.05113894\n",
      "Iteration 298, loss = 0.05089871\n",
      "Iteration 299, loss = 0.05066261\n",
      "Iteration 300, loss = 0.05042902\n",
      "Iteration 301, loss = 0.05019734\n",
      "Iteration 302, loss = 0.04996788\n",
      "Iteration 303, loss = 0.04973975\n",
      "Iteration 304, loss = 0.04951368\n",
      "Iteration 305, loss = 0.04929017\n",
      "Iteration 306, loss = 0.04906779\n",
      "Iteration 307, loss = 0.04884743\n",
      "Iteration 308, loss = 0.04862855\n",
      "Iteration 309, loss = 0.04841222\n",
      "Iteration 310, loss = 0.04819745\n",
      "Iteration 311, loss = 0.04798474\n",
      "Iteration 312, loss = 0.04777490\n",
      "Iteration 313, loss = 0.04756610\n",
      "Iteration 314, loss = 0.04735897\n",
      "Iteration 315, loss = 0.04715360\n",
      "Iteration 316, loss = 0.04694958\n",
      "Iteration 317, loss = 0.04674738\n",
      "Iteration 318, loss = 0.04654700\n",
      "Iteration 319, loss = 0.04634916\n",
      "Iteration 320, loss = 0.04615155\n",
      "Iteration 321, loss = 0.04595605\n",
      "Iteration 322, loss = 0.04576199\n",
      "Iteration 323, loss = 0.04556961\n",
      "Iteration 324, loss = 0.04537861\n",
      "Iteration 325, loss = 0.04518873\n",
      "Iteration 326, loss = 0.04500033\n",
      "Iteration 327, loss = 0.04481353\n",
      "Iteration 328, loss = 0.04462787\n",
      "Iteration 329, loss = 0.04444381\n",
      "Iteration 330, loss = 0.04426141\n",
      "Iteration 331, loss = 0.04408015\n",
      "Iteration 332, loss = 0.04389980\n",
      "Iteration 333, loss = 0.04372158\n",
      "Iteration 334, loss = 0.04354472\n",
      "Iteration 335, loss = 0.04336875\n",
      "Iteration 336, loss = 0.04319433\n",
      "Iteration 337, loss = 0.04302126\n",
      "Iteration 338, loss = 0.04284962\n",
      "Iteration 339, loss = 0.04267867\n",
      "Iteration 340, loss = 0.04250977\n",
      "Iteration 341, loss = 0.04234166\n",
      "Iteration 342, loss = 0.04217456\n",
      "Iteration 343, loss = 0.04200893\n",
      "Iteration 344, loss = 0.04184464\n",
      "Iteration 345, loss = 0.04168231\n",
      "Iteration 346, loss = 0.04152142\n",
      "Iteration 347, loss = 0.04136217\n",
      "Iteration 348, loss = 0.04120350\n",
      "Iteration 349, loss = 0.04104566\n",
      "Iteration 350, loss = 0.04088931\n",
      "Iteration 351, loss = 0.04073374\n",
      "Iteration 352, loss = 0.04057899\n",
      "Iteration 353, loss = 0.04042572\n",
      "Iteration 354, loss = 0.04027309\n",
      "Iteration 355, loss = 0.04012171\n",
      "Iteration 356, loss = 0.03997131\n",
      "Iteration 357, loss = 0.03982195\n",
      "Iteration 358, loss = 0.03967493\n",
      "Iteration 359, loss = 0.03952852\n",
      "Iteration 360, loss = 0.03938281\n",
      "Iteration 361, loss = 0.03923869\n",
      "Iteration 362, loss = 0.03909536\n",
      "Iteration 363, loss = 0.03895282\n",
      "Iteration 364, loss = 0.03881152\n",
      "Iteration 365, loss = 0.03867116\n",
      "Iteration 366, loss = 0.03853193\n",
      "Iteration 367, loss = 0.03839400\n",
      "Iteration 368, loss = 0.03825580\n",
      "Iteration 369, loss = 0.03811726\n",
      "Iteration 370, loss = 0.03797893\n",
      "Iteration 371, loss = 0.03783968\n",
      "Iteration 372, loss = 0.03770107\n",
      "Iteration 373, loss = 0.03756344\n",
      "Iteration 374, loss = 0.03742583\n",
      "Iteration 375, loss = 0.03728880\n",
      "Iteration 376, loss = 0.03715234\n",
      "Iteration 377, loss = 0.03701729\n",
      "Iteration 378, loss = 0.03689028\n",
      "Iteration 379, loss = 0.03676467\n",
      "Iteration 380, loss = 0.03663921\n",
      "Iteration 381, loss = 0.03651494\n",
      "Iteration 382, loss = 0.03639143\n",
      "Iteration 383, loss = 0.03626808\n",
      "Iteration 384, loss = 0.03614567\n",
      "Iteration 385, loss = 0.03602461\n",
      "Iteration 386, loss = 0.03590439\n",
      "Iteration 387, loss = 0.03578497\n",
      "Iteration 388, loss = 0.03566596\n",
      "Iteration 389, loss = 0.03554792\n",
      "Iteration 390, loss = 0.03543016\n",
      "Iteration 391, loss = 0.03531224\n",
      "Iteration 392, loss = 0.03519532\n",
      "Iteration 393, loss = 0.03507833\n",
      "Iteration 394, loss = 0.03496255\n",
      "Iteration 395, loss = 0.03484752\n",
      "Iteration 396, loss = 0.03473377\n",
      "Iteration 397, loss = 0.03461928\n",
      "Iteration 398, loss = 0.03450603\n",
      "Iteration 399, loss = 0.03439336\n",
      "Iteration 400, loss = 0.03428126\n",
      "Iteration 401, loss = 0.03417013\n",
      "Iteration 402, loss = 0.03405967\n",
      "Iteration 403, loss = 0.03394937\n",
      "Iteration 404, loss = 0.03383994\n",
      "Iteration 405, loss = 0.03373093\n",
      "Iteration 406, loss = 0.03362287\n",
      "Iteration 407, loss = 0.03351560\n",
      "Iteration 408, loss = 0.03340920\n",
      "Iteration 409, loss = 0.03330255\n",
      "Iteration 410, loss = 0.03319717\n",
      "Iteration 411, loss = 0.03309260\n",
      "Iteration 412, loss = 0.03298834\n",
      "Iteration 413, loss = 0.03288480\n",
      "Iteration 414, loss = 0.03278190\n",
      "Iteration 415, loss = 0.03267973\n",
      "Iteration 416, loss = 0.03257824\n",
      "Iteration 417, loss = 0.03247729\n",
      "Iteration 418, loss = 0.03237675\n",
      "Iteration 419, loss = 0.03227719\n",
      "Iteration 420, loss = 0.03217878\n",
      "Iteration 421, loss = 0.03208016\n",
      "Iteration 422, loss = 0.03198221\n",
      "Iteration 423, loss = 0.03188517\n",
      "Iteration 424, loss = 0.03178873\n",
      "Iteration 425, loss = 0.03169301\n",
      "Iteration 426, loss = 0.03159775\n",
      "Iteration 427, loss = 0.03150305\n",
      "Iteration 428, loss = 0.03140939\n",
      "Iteration 429, loss = 0.03131863\n",
      "Training loss did not improve more than tol=0.000100 for 10 consecutive epochs. Stopping.\n",
      "Неверно классифицированные образцы: 1\n",
      "Точность: 0.98\n"
     ]
    }
   ],
   "source": [
    "ppn = MLPClassifier(max_iter=500, solver='adam', activation='relu', verbose=True)\n",
    "ppn.fit(X_train, y_train)\n",
    "y1 = ppn.predict(X_test)\n",
    "print('Неверно классифицированные образцы: %d' % (y_test.reset_index(drop=True)['Категория'] != pd.Series(y1.flatten())).sum())\n",
    "print('Точность: %.2f' % accuracy_score(y_test, y1))"
   ]
  },
  {
   "cell_type": "code",
   "execution_count": 12,
   "metadata": {
    "collapsed": false,
    "jupyter": {
     "outputs_hidden": false
    },
    "tags": []
   },
   "outputs": [
    {
     "data": {
      "text/plain": [
       "Text(0.5, 1.1, 'Матрица неточности Персептрон\\n')"
      ]
     },
     "execution_count": 12,
     "metadata": {},
     "output_type": "execute_result"
    },
    {
     "data": {
      "image/png": "[encoded data removed]",
      "text/plain": [
       "<Figure size 640x480 with 2 Axes>"
      ]
     },
     "metadata": {},
     "output_type": "display_data"
    }
   ],
   "source": [
    "cnf_matrix_log = confusion_matrix(y_test, y1)\n",
    "sns.heatmap(pd.DataFrame(cnf_matrix_log), annot=True,cmap=\"Reds\" , fmt='g')\n",
    "plt.tight_layout()\n",
    "plt.title('Матрица неточности Персептрон\\n', y=1.1)"
   ]
  },
  {
   "cell_type": "code",
   "execution_count": 13,
   "metadata": {
    "collapsed": false,
    "jupyter": {
     "outputs_hidden": false
    },
    "tags": []
   },
   "outputs": [
    {
     "name": "stderr",
     "output_type": "stream",
     "text": [
      "C:\\Users\\gross\\anaconda3\\Lib\\site-packages\\sklearn\\neural_network\\_multilayer_perceptron.py:1102: DataConversionWarning: A column-vector y was passed when a 1d array was expected. Please change the shape of y to (n_samples, ), for example using ravel().\n",
      "  y = column_or_1d(y, warn=True)\n"
     ]
    },
    {
     "name": "stdout",
     "output_type": "stream",
     "text": [
      "Неверно классифицированные образцы: 1\n",
      "Точность: 0.98\n"
     ]
    },
    {
     "data": {
      "text/plain": [
       "Text(0.5, 1.1, 'Матрица неточности Персептрон\\n')"
      ]
     },
     "execution_count": 13,
     "metadata": {},
     "output_type": "execute_result"
    },
    {
     "data": {
      "image/png": "[encoded data removed]",
      "text/plain": [
       "<Figure size 640x480 with 2 Axes>"
      ]
     },
     "metadata": {},
     "output_type": "display_data"
    }
   ],
   "source": [
    "mlp= MLPClassifier(activation='relu', solver='lbfgs', alpha=1e-5, max_iter=10000, hidden_layer_sizes=(5,), random_state=1)\n",
    "mlp.fit(X_train,y_train)\n",
    "mlp_pred = mlp.predict(X_test)\n",
    "print('Неверно классифицированные образцы: %d' % (y_test.reset_index(drop=True)['Категория'] != pd.Series(y1.flatten())).sum())\n",
    "print('Точность: %.2f' % accuracy_score(y_test, y1))\n",
    "# матрица неточности\n",
    "\n",
    "cnf_matrix_log = confusion_matrix(y_test, mlp_pred)\n",
    "\n",
    "sns.heatmap(pd.DataFrame(cnf_matrix_log), annot=True,cmap=\"Reds\" , fmt='g')\n",
    "plt.tight_layout()\n",
    "plt.title('Матрица неточности Персептрон\\n', y=1.1)"
   ]
  },
  {
   "cell_type": "code",
   "execution_count": 14,
   "metadata": {
    "tags": []
   },
   "outputs": [
    {
     "data": {
      "text/plain": [
       "array([1, 0, 1, 1, 1, 1, 0, 0, 0, 0, 0, 0, 0, 0, 1, 0, 0, 0, 0, 0, 0, 0,\n",
       "       0, 0, 1, 1, 0, 1, 1, 0, 0, 0, 0, 0, 0, 1, 0, 0, 1, 0, 1, 1, 1, 1,\n",
       "       0, 0, 0, 1], dtype=int64)"
      ]
     },
     "execution_count": 14,
     "metadata": {},
     "output_type": "execute_result"
    }
   ],
   "source": [
    "y_score = ppn.predict(X_test)\n",
    "y_score"
   ]
  },
  {
   "cell_type": "code",
   "execution_count": 15,
   "metadata": {
    "tags": []
   },
   "outputs": [
    {
     "data": {
      "image/png": "[encoded data removed]",
      "text/plain": [
       "<Figure size 640x480 with 1 Axes>"
      ]
     },
     "metadata": {},
     "output_type": "display_data"
    }
   ],
   "source": [
    "from sklearn.metrics import roc_auc_score\n",
    "from sklearn.metrics import roc_curve, auc\n",
    "# ROC - анализ\n",
    "fpr = dict()\n",
    "tpr = dict()\n",
    "roc_auc = dict()\n",
    "fpr, tpr, thresholds = roc_curve(y_test > 0, y_score  > 0)\n",
    "roc_auc = auc(fpr, tpr)\n",
    "\n",
    "plt.figure()\n",
    "lw = 2\n",
    "plt.plot(fpr, tpr, color='darkorange', lw=lw, label='ROC curve (area = %0.2f)' % roc_auc)\n",
    "plt.plot([0, 1], [0, 1], color='navy', lw=lw, linestyle='--')\n",
    "plt.xlim([0.0, 1.0])\n",
    "plt.ylim([0.0, 1.05])\n",
    "plt.xlabel('False Positive Rate')\n",
    "plt.ylabel('True Positive Rate')\n",
    "plt.title('Receiver operating characteristic example')\n",
    "plt.legend(loc=\"lower right\")\n",
    "plt.show()"
   ]
  },
  {
   "cell_type": "code",
   "execution_count": 16,
   "metadata": {
    "tags": []
   },
   "outputs": [
    {
     "name": "stdout",
     "output_type": "stream",
     "text": [
      "Неверно классифицированные образцы: 4\n",
      "Точность: 0.92\n"
     ]
    },
    {
     "data": {
      "text/plain": [
       "Text(0.5, 1.1, 'Матрица неточности Персептрон\\n')"
      ]
     },
     "execution_count": 16,
     "metadata": {},
     "output_type": "execute_result"
    },
    {
     "data": {
      "image/png": "[encoded data removed]",
      "text/plain": [
       "<Figure size 640x480 with 2 Axes>"
      ]
     },
     "metadata": {},
     "output_type": "display_data"
    }
   ],
   "source": [
    "# Сокращенный набор\n",
    "y = y.values.ravel()\n",
    "\n",
    "# Split the data\n",
    "X_train, X_test, y_train, y_test = train_test_split(X_cut, y, test_size=0.3, random_state=0)\n",
    "\n",
    "# Rest of your code remains the same...\n",
    "ppn = Perceptron(max_iter=10000, random_state=0)\n",
    "ppn.fit(X_train, y_train)\n",
    "y1 = ppn.predict(X_test)\n",
    "\n",
    "# Print the misclassified samples\n",
    "print('Неверно классифицированные образцы: %d' % (len(y_test[y_test != y1])))\n",
    "\n",
    "# Print the accuracy\n",
    "print('Точность: %.2f' % accuracy_score(y_test, y1))\n",
    "\n",
    "# Rest of your code remains the same...\n",
    "cnf_matrix_log = confusion_matrix(y_test, y1)\n",
    "sns.heatmap(pd.DataFrame(cnf_matrix_log), annot=True, cmap=\"Reds\", fmt='g')\n",
    "plt.tight_layout()\n",
    "plt.title('Матрица неточности Персептрон\\n', y=1.1)"
   ]
  },
  {
   "cell_type": "code",
   "execution_count": 17,
   "metadata": {},
   "outputs": [
    {
     "name": "stdout",
     "output_type": "stream",
     "text": [
      "Неверно классифицированные образцы: 4\n",
      "Точность: 0.92\n"
     ]
    },
    {
     "data": {
      "text/plain": [
       "Text(0.5, 1.1, 'Матрица неточности Персептрон\\n')"
      ]
     },
     "execution_count": 17,
     "metadata": {},
     "output_type": "execute_result"
    },
    {
     "data": {
      "image/png": "[encoded data removed]",
      "text/plain": [
       "<Figure size 640x480 with 2 Axes>"
      ]
     },
     "metadata": {},
     "output_type": "display_data"
    }
   ],
   "source": [
    "mlp= MLPClassifier(activation='relu', solver='lbfgs', alpha=1e-5, max_iter=10000, hidden_layer_sizes=(5,), random_state=1)\n",
    "mlp.fit(X_train,y_train)\n",
    "mlp_pred = mlp.predict(X_test)\n",
    "print('Неверно классифицированные образцы: %d' % (y_test != mlp_pred).sum())\n",
    "print('Точность: %.2f' % accuracy_score(y_test, mlp_pred))\n",
    "\n",
    "# матрица неточности\n",
    "\n",
    "cnf_matrix_log = confusion_matrix(y_test, mlp_pred)\n",
    "\n",
    "sns.heatmap(pd.DataFrame(cnf_matrix_log), annot=True,cmap=\"Reds\" , fmt='g')\n",
    "plt.tight_layout()\n",
    "plt.title('Матрица неточности Персептрон\\n', y=1.1)"
   ]
  },
  {
   "cell_type": "code",
   "execution_count": 18,
   "metadata": {
    "tags": []
   },
   "outputs": [
    {
     "data": {
      "text/plain": [
       "array([1, 0, 1, 1, 1, 1, 0, 0, 0, 0, 0, 0, 0, 0, 1, 0, 0, 0, 0, 0, 0, 1,\n",
       "       0, 0, 1, 1, 0, 0, 1, 0, 0, 0, 0, 0, 0, 1, 0, 0, 1, 0, 1, 1, 1, 1,\n",
       "       0, 0, 0, 0], dtype=int64)"
      ]
     },
     "execution_count": 18,
     "metadata": {},
     "output_type": "execute_result"
    }
   ],
   "source": [
    "y_score = mlp.predict(X_test)\n",
    "y_score"
   ]
  },
  {
   "cell_type": "code",
   "execution_count": 19,
   "metadata": {
    "tags": []
   },
   "outputs": [
    {
     "data": {
      "image/png": "[encoded data removed]",
      "text/plain": [
       "<Figure size 640x480 with 1 Axes>"
      ]
     },
     "metadata": {},
     "output_type": "display_data"
    }
   ],
   "source": [
    "from sklearn.metrics import roc_auc_score\n",
    "from sklearn.metrics import roc_curve, auc\n",
    "# ROC - анализ\n",
    "fpr = dict()\n",
    "tpr = dict()\n",
    "roc_auc = dict()\n",
    "fpr, tpr, thresholds = roc_curve(y_test > 0, y_score  > 0)\n",
    "roc_auc = auc(fpr, tpr)\n",
    "\n",
    "plt.figure()\n",
    "lw = 2\n",
    "plt.plot(fpr, tpr, color='darkorange', lw=lw, label='ROC curve (area = %0.2f)' % roc_auc)\n",
    "plt.plot([0, 1], [0, 1], color='navy', lw=lw, linestyle='--')\n",
    "plt.xlim([0.0, 1.0])\n",
    "plt.ylim([0.0, 1.05])\n",
    "plt.xlabel('False Positive Rate')\n",
    "plt.ylabel('True Positive Rate')\n",
    "plt.title('Receiver operating characteristic example')\n",
    "plt.legend(loc=\"lower right\")\n",
    "plt.show()"
   ]
  },
  {
   "cell_type": "code",
   "execution_count": null,
   "metadata": {},
   "outputs": [],
   "source": []
  }
 ],
 "metadata": {
  "kernelspec": {
   "display_name": "Python 3 (ipykernel)",
   "language": "python",
   "name": "python3"
  },
  "language_info": {
   "codemirror_mode": {
    "name": "ipython",
    "version": 3
   },
   "file_extension": ".py",
   "mimetype": "text/x-python",
   "name": "python",
   "nbconvert_exporter": "python",
   "pygments_lexer": "ipython3",
   "version": "3.11.5"
  }
 },
 "nbformat": 4,
 "nbformat_minor": 4
}
