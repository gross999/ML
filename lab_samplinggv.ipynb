{
 "cells": [
  {
   "cell_type": "code",
   "execution_count": 1,
   "metadata": {
    "tags": []
   },
   "outputs": [],
   "source": [
    "import pandas as pd\n",
    "\n",
    "classes =  [(0, 12000),\n",
    "            (12000, 46000)]\n",
    "\n",
    "dataset = pd.read_csv('car19.csv')\n",
    "price = dataset[['price']]\n",
    "categories = []\n",
    "doneFlag = False\n",
    "for _, x in price.iterrows():\n",
    "    for i, c in enumerate(classes):\n",
    "\n",
    "        if c[0] <= x['price'] < c[1]:\n",
    "            categories.append(i)\n",
    "            breakFlag = True\n",
    "            break\n",
    "\n",
    "    if doneFlag:\n",
    "        continue\n",
    "dataset['Категория'] = categories"
   ]
  },
  {
   "cell_type": "code",
   "execution_count": 2,
   "metadata": {
    "tags": []
   },
   "outputs": [
    {
     "data": {
      "text/html": [
       "<div>\n",
       "<style scoped>\n",
       "    .dataframe tbody tr th:only-of-type {\n",
       "        vertical-align: middle;\n",
       "    }\n",
       "\n",
       "    .dataframe tbody tr th {\n",
       "        vertical-align: top;\n",
       "    }\n",
       "\n",
       "    .dataframe thead th {\n",
       "        text-align: right;\n",
       "    }\n",
       "</style>\n",
       "<table border=\"1\" class=\"dataframe\">\n",
       "  <thead>\n",
       "    <tr style=\"text-align: right;\">\n",
       "      <th></th>\n",
       "      <th>car_ID</th>\n",
       "      <th>symboling</th>\n",
       "      <th>wheelbase</th>\n",
       "      <th>carlength</th>\n",
       "      <th>carwidth</th>\n",
       "      <th>carheight</th>\n",
       "      <th>curbweight</th>\n",
       "      <th>enginesize</th>\n",
       "      <th>boreratio</th>\n",
       "      <th>stroke</th>\n",
       "      <th>compressionratio</th>\n",
       "      <th>horsepower</th>\n",
       "      <th>peakrpm</th>\n",
       "      <th>citympg</th>\n",
       "      <th>highwaympg</th>\n",
       "      <th>price</th>\n",
       "      <th>Категория</th>\n",
       "    </tr>\n",
       "  </thead>\n",
       "  <tbody>\n",
       "    <tr>\n",
       "      <th>0</th>\n",
       "      <td>0</td>\n",
       "      <td>3</td>\n",
       "      <td>88.6</td>\n",
       "      <td>168.8</td>\n",
       "      <td>64.1</td>\n",
       "      <td>48.8</td>\n",
       "      <td>2548</td>\n",
       "      <td>130</td>\n",
       "      <td>3.47</td>\n",
       "      <td>2.68</td>\n",
       "      <td>9.0</td>\n",
       "      <td>111</td>\n",
       "      <td>5000</td>\n",
       "      <td>21</td>\n",
       "      <td>27</td>\n",
       "      <td>13495.6</td>\n",
       "      <td>1</td>\n",
       "    </tr>\n",
       "    <tr>\n",
       "      <th>1</th>\n",
       "      <td>1</td>\n",
       "      <td>3</td>\n",
       "      <td>88.6</td>\n",
       "      <td>168.8</td>\n",
       "      <td>64.1</td>\n",
       "      <td>48.8</td>\n",
       "      <td>2548</td>\n",
       "      <td>130</td>\n",
       "      <td>3.47</td>\n",
       "      <td>2.68</td>\n",
       "      <td>9.0</td>\n",
       "      <td>111</td>\n",
       "      <td>5000</td>\n",
       "      <td>21</td>\n",
       "      <td>27</td>\n",
       "      <td>16500.1</td>\n",
       "      <td>1</td>\n",
       "    </tr>\n",
       "    <tr>\n",
       "      <th>2</th>\n",
       "      <td>2</td>\n",
       "      <td>1</td>\n",
       "      <td>94.5</td>\n",
       "      <td>171.2</td>\n",
       "      <td>65.5</td>\n",
       "      <td>52.4</td>\n",
       "      <td>2823</td>\n",
       "      <td>152</td>\n",
       "      <td>2.68</td>\n",
       "      <td>3.47</td>\n",
       "      <td>9.0</td>\n",
       "      <td>154</td>\n",
       "      <td>5000</td>\n",
       "      <td>19</td>\n",
       "      <td>26</td>\n",
       "      <td>16500.7</td>\n",
       "      <td>1</td>\n",
       "    </tr>\n",
       "    <tr>\n",
       "      <th>3</th>\n",
       "      <td>3</td>\n",
       "      <td>2</td>\n",
       "      <td>99.8</td>\n",
       "      <td>176.6</td>\n",
       "      <td>66.2</td>\n",
       "      <td>54.3</td>\n",
       "      <td>2337</td>\n",
       "      <td>109</td>\n",
       "      <td>3.19</td>\n",
       "      <td>3.40</td>\n",
       "      <td>10.0</td>\n",
       "      <td>102</td>\n",
       "      <td>5500</td>\n",
       "      <td>24</td>\n",
       "      <td>30</td>\n",
       "      <td>13950.2</td>\n",
       "      <td>1</td>\n",
       "    </tr>\n",
       "    <tr>\n",
       "      <th>4</th>\n",
       "      <td>4</td>\n",
       "      <td>2</td>\n",
       "      <td>99.4</td>\n",
       "      <td>176.6</td>\n",
       "      <td>66.4</td>\n",
       "      <td>54.3</td>\n",
       "      <td>2824</td>\n",
       "      <td>136</td>\n",
       "      <td>3.19</td>\n",
       "      <td>3.40</td>\n",
       "      <td>8.0</td>\n",
       "      <td>115</td>\n",
       "      <td>5500</td>\n",
       "      <td>18</td>\n",
       "      <td>22</td>\n",
       "      <td>17450.8</td>\n",
       "      <td>1</td>\n",
       "    </tr>\n",
       "    <tr>\n",
       "      <th>...</th>\n",
       "      <td>...</td>\n",
       "      <td>...</td>\n",
       "      <td>...</td>\n",
       "      <td>...</td>\n",
       "      <td>...</td>\n",
       "      <td>...</td>\n",
       "      <td>...</td>\n",
       "      <td>...</td>\n",
       "      <td>...</td>\n",
       "      <td>...</td>\n",
       "      <td>...</td>\n",
       "      <td>...</td>\n",
       "      <td>...</td>\n",
       "      <td>...</td>\n",
       "      <td>...</td>\n",
       "      <td>...</td>\n",
       "      <td>...</td>\n",
       "    </tr>\n",
       "    <tr>\n",
       "      <th>95</th>\n",
       "      <td>103</td>\n",
       "      <td>0</td>\n",
       "      <td>100.4</td>\n",
       "      <td>184.6</td>\n",
       "      <td>66.5</td>\n",
       "      <td>55.1</td>\n",
       "      <td>3060</td>\n",
       "      <td>181</td>\n",
       "      <td>3.43</td>\n",
       "      <td>3.27</td>\n",
       "      <td>9.0</td>\n",
       "      <td>152</td>\n",
       "      <td>5200</td>\n",
       "      <td>19</td>\n",
       "      <td>25</td>\n",
       "      <td>13499.7</td>\n",
       "      <td>1</td>\n",
       "    </tr>\n",
       "    <tr>\n",
       "      <th>96</th>\n",
       "      <td>104</td>\n",
       "      <td>3</td>\n",
       "      <td>91.3</td>\n",
       "      <td>170.7</td>\n",
       "      <td>67.9</td>\n",
       "      <td>49.7</td>\n",
       "      <td>3071</td>\n",
       "      <td>181</td>\n",
       "      <td>3.43</td>\n",
       "      <td>3.27</td>\n",
       "      <td>9.0</td>\n",
       "      <td>160</td>\n",
       "      <td>5200</td>\n",
       "      <td>19</td>\n",
       "      <td>25</td>\n",
       "      <td>17199.7</td>\n",
       "      <td>1</td>\n",
       "    </tr>\n",
       "    <tr>\n",
       "      <th>97</th>\n",
       "      <td>105</td>\n",
       "      <td>3</td>\n",
       "      <td>91.3</td>\n",
       "      <td>170.7</td>\n",
       "      <td>67.9</td>\n",
       "      <td>49.7</td>\n",
       "      <td>3139</td>\n",
       "      <td>181</td>\n",
       "      <td>3.43</td>\n",
       "      <td>3.27</td>\n",
       "      <td>7.8</td>\n",
       "      <td>200</td>\n",
       "      <td>5200</td>\n",
       "      <td>17</td>\n",
       "      <td>23</td>\n",
       "      <td>19699.7</td>\n",
       "      <td>1</td>\n",
       "    </tr>\n",
       "    <tr>\n",
       "      <th>98</th>\n",
       "      <td>106</td>\n",
       "      <td>1</td>\n",
       "      <td>99.2</td>\n",
       "      <td>178.5</td>\n",
       "      <td>67.9</td>\n",
       "      <td>49.7</td>\n",
       "      <td>3139</td>\n",
       "      <td>181</td>\n",
       "      <td>3.43</td>\n",
       "      <td>3.27</td>\n",
       "      <td>9.0</td>\n",
       "      <td>160</td>\n",
       "      <td>5200</td>\n",
       "      <td>19</td>\n",
       "      <td>25</td>\n",
       "      <td>18399.7</td>\n",
       "      <td>1</td>\n",
       "    </tr>\n",
       "    <tr>\n",
       "      <th>99</th>\n",
       "      <td>107</td>\n",
       "      <td>0</td>\n",
       "      <td>107.9</td>\n",
       "      <td>186.7</td>\n",
       "      <td>68.4</td>\n",
       "      <td>56.7</td>\n",
       "      <td>3020</td>\n",
       "      <td>120</td>\n",
       "      <td>3.46</td>\n",
       "      <td>3.19</td>\n",
       "      <td>8.4</td>\n",
       "      <td>97</td>\n",
       "      <td>5000</td>\n",
       "      <td>19</td>\n",
       "      <td>24</td>\n",
       "      <td>11900.7</td>\n",
       "      <td>0</td>\n",
       "    </tr>\n",
       "  </tbody>\n",
       "</table>\n",
       "<p>100 rows × 17 columns</p>\n",
       "</div>"
      ],
      "text/plain": [
       "    car_ID  symboling  wheelbase  carlength  carwidth  carheight  curbweight  \\\n",
       "0        0          3       88.6      168.8      64.1       48.8        2548   \n",
       "1        1          3       88.6      168.8      64.1       48.8        2548   \n",
       "2        2          1       94.5      171.2      65.5       52.4        2823   \n",
       "3        3          2       99.8      176.6      66.2       54.3        2337   \n",
       "4        4          2       99.4      176.6      66.4       54.3        2824   \n",
       "..     ...        ...        ...        ...       ...        ...         ...   \n",
       "95     103          0      100.4      184.6      66.5       55.1        3060   \n",
       "96     104          3       91.3      170.7      67.9       49.7        3071   \n",
       "97     105          3       91.3      170.7      67.9       49.7        3139   \n",
       "98     106          1       99.2      178.5      67.9       49.7        3139   \n",
       "99     107          0      107.9      186.7      68.4       56.7        3020   \n",
       "\n",
       "    enginesize  boreratio  stroke  compressionratio  horsepower  peakrpm  \\\n",
       "0          130       3.47    2.68               9.0         111     5000   \n",
       "1          130       3.47    2.68               9.0         111     5000   \n",
       "2          152       2.68    3.47               9.0         154     5000   \n",
       "3          109       3.19    3.40              10.0         102     5500   \n",
       "4          136       3.19    3.40               8.0         115     5500   \n",
       "..         ...        ...     ...               ...         ...      ...   \n",
       "95         181       3.43    3.27               9.0         152     5200   \n",
       "96         181       3.43    3.27               9.0         160     5200   \n",
       "97         181       3.43    3.27               7.8         200     5200   \n",
       "98         181       3.43    3.27               9.0         160     5200   \n",
       "99         120       3.46    3.19               8.4          97     5000   \n",
       "\n",
       "    citympg  highwaympg    price  Категория  \n",
       "0        21          27  13495.6          1  \n",
       "1        21          27  16500.1          1  \n",
       "2        19          26  16500.7          1  \n",
       "3        24          30  13950.2          1  \n",
       "4        18          22  17450.8          1  \n",
       "..      ...         ...      ...        ...  \n",
       "95       19          25  13499.7          1  \n",
       "96       19          25  17199.7          1  \n",
       "97       17          23  19699.7          1  \n",
       "98       19          25  18399.7          1  \n",
       "99       19          24  11900.7          0  \n",
       "\n",
       "[100 rows x 17 columns]"
      ]
     },
     "execution_count": 2,
     "metadata": {},
     "output_type": "execute_result"
    }
   ],
   "source": [
    "dataset.head(100)"
   ]
  },
  {
   "cell_type": "code",
   "execution_count": 3,
   "metadata": {
    "collapsed": false,
    "jupyter": {
     "outputs_hidden": false
    },
    "tags": []
   },
   "outputs": [
    {
     "data": {
      "text/html": [
       "<div>\n",
       "<style scoped>\n",
       "    .dataframe tbody tr th:only-of-type {\n",
       "        vertical-align: middle;\n",
       "    }\n",
       "\n",
       "    .dataframe tbody tr th {\n",
       "        vertical-align: top;\n",
       "    }\n",
       "\n",
       "    .dataframe thead th {\n",
       "        text-align: right;\n",
       "    }\n",
       "</style>\n",
       "<table border=\"1\" class=\"dataframe\">\n",
       "  <thead>\n",
       "    <tr style=\"text-align: right;\">\n",
       "      <th></th>\n",
       "      <th>car_ID</th>\n",
       "      <th>symboling</th>\n",
       "      <th>wheelbase</th>\n",
       "      <th>carlength</th>\n",
       "      <th>carwidth</th>\n",
       "      <th>carheight</th>\n",
       "      <th>curbweight</th>\n",
       "      <th>enginesize</th>\n",
       "      <th>boreratio</th>\n",
       "      <th>stroke</th>\n",
       "      <th>compressionratio</th>\n",
       "      <th>horsepower</th>\n",
       "      <th>peakrpm</th>\n",
       "      <th>citympg</th>\n",
       "      <th>highwaympg</th>\n",
       "      <th>price</th>\n",
       "      <th>Категория</th>\n",
       "    </tr>\n",
       "  </thead>\n",
       "  <tbody>\n",
       "    <tr>\n",
       "      <th>count</th>\n",
       "      <td>159.000000</td>\n",
       "      <td>159.000000</td>\n",
       "      <td>159.000000</td>\n",
       "      <td>159.000000</td>\n",
       "      <td>159.000000</td>\n",
       "      <td>159.000000</td>\n",
       "      <td>159.000000</td>\n",
       "      <td>159.000000</td>\n",
       "      <td>159.000000</td>\n",
       "      <td>159.000000</td>\n",
       "      <td>159.000000</td>\n",
       "      <td>159.000000</td>\n",
       "      <td>159.000000</td>\n",
       "      <td>159.000000</td>\n",
       "      <td>159.000000</td>\n",
       "      <td>159.000000</td>\n",
       "      <td>159.000000</td>\n",
       "    </tr>\n",
       "    <tr>\n",
       "      <th>mean</th>\n",
       "      <td>87.798742</td>\n",
       "      <td>1.069182</td>\n",
       "      <td>97.523899</td>\n",
       "      <td>171.911950</td>\n",
       "      <td>65.583019</td>\n",
       "      <td>53.242138</td>\n",
       "      <td>2481.924528</td>\n",
       "      <td>124.685535</td>\n",
       "      <td>3.297044</td>\n",
       "      <td>3.262516</td>\n",
       "      <td>9.013333</td>\n",
       "      <td>104.238994</td>\n",
       "      <td>5169.496855</td>\n",
       "      <td>25.100629</td>\n",
       "      <td>30.773585</td>\n",
       "      <td>12434.286270</td>\n",
       "      <td>0.352201</td>\n",
       "    </tr>\n",
       "    <tr>\n",
       "      <th>std</th>\n",
       "      <td>52.832166</td>\n",
       "      <td>1.164450</td>\n",
       "      <td>5.254684</td>\n",
       "      <td>11.802962</td>\n",
       "      <td>2.061252</td>\n",
       "      <td>2.408566</td>\n",
       "      <td>502.153546</td>\n",
       "      <td>43.224339</td>\n",
       "      <td>0.264715</td>\n",
       "      <td>0.309003</td>\n",
       "      <td>1.596586</td>\n",
       "      <td>40.362355</td>\n",
       "      <td>431.105143</td>\n",
       "      <td>6.560522</td>\n",
       "      <td>6.713791</td>\n",
       "      <td>7589.797782</td>\n",
       "      <td>0.479165</td>\n",
       "    </tr>\n",
       "    <tr>\n",
       "      <th>min</th>\n",
       "      <td>0.000000</td>\n",
       "      <td>-1.000000</td>\n",
       "      <td>86.600000</td>\n",
       "      <td>141.100000</td>\n",
       "      <td>60.300000</td>\n",
       "      <td>47.800000</td>\n",
       "      <td>1488.000000</td>\n",
       "      <td>61.000000</td>\n",
       "      <td>2.540000</td>\n",
       "      <td>2.070000</td>\n",
       "      <td>7.000000</td>\n",
       "      <td>48.000000</td>\n",
       "      <td>4200.000000</td>\n",
       "      <td>13.000000</td>\n",
       "      <td>16.000000</td>\n",
       "      <td>5151.400000</td>\n",
       "      <td>0.000000</td>\n",
       "    </tr>\n",
       "    <tr>\n",
       "      <th>25%</th>\n",
       "      <td>41.500000</td>\n",
       "      <td>0.000000</td>\n",
       "      <td>94.500000</td>\n",
       "      <td>165.300000</td>\n",
       "      <td>63.900000</td>\n",
       "      <td>51.200000</td>\n",
       "      <td>2038.500000</td>\n",
       "      <td>97.000000</td>\n",
       "      <td>3.050000</td>\n",
       "      <td>3.110000</td>\n",
       "      <td>8.500000</td>\n",
       "      <td>70.000000</td>\n",
       "      <td>4800.000000</td>\n",
       "      <td>19.000000</td>\n",
       "      <td>25.000000</td>\n",
       "      <td>7429.500000</td>\n",
       "      <td>0.000000</td>\n",
       "    </tr>\n",
       "    <tr>\n",
       "      <th>50%</th>\n",
       "      <td>87.000000</td>\n",
       "      <td>1.000000</td>\n",
       "      <td>96.300000</td>\n",
       "      <td>172.400000</td>\n",
       "      <td>65.400000</td>\n",
       "      <td>53.300000</td>\n",
       "      <td>2395.000000</td>\n",
       "      <td>110.000000</td>\n",
       "      <td>3.310000</td>\n",
       "      <td>3.270000</td>\n",
       "      <td>9.000000</td>\n",
       "      <td>92.000000</td>\n",
       "      <td>5200.000000</td>\n",
       "      <td>24.000000</td>\n",
       "      <td>30.000000</td>\n",
       "      <td>9895.800000</td>\n",
       "      <td>0.000000</td>\n",
       "    </tr>\n",
       "    <tr>\n",
       "      <th>75%</th>\n",
       "      <td>134.500000</td>\n",
       "      <td>2.000000</td>\n",
       "      <td>99.100000</td>\n",
       "      <td>176.800000</td>\n",
       "      <td>66.500000</td>\n",
       "      <td>54.700000</td>\n",
       "      <td>2793.000000</td>\n",
       "      <td>136.000000</td>\n",
       "      <td>3.540000</td>\n",
       "      <td>3.410000</td>\n",
       "      <td>9.400000</td>\n",
       "      <td>116.000000</td>\n",
       "      <td>5500.000000</td>\n",
       "      <td>30.000000</td>\n",
       "      <td>35.500000</td>\n",
       "      <td>15380.500000</td>\n",
       "      <td>1.000000</td>\n",
       "    </tr>\n",
       "    <tr>\n",
       "      <th>max</th>\n",
       "      <td>179.000000</td>\n",
       "      <td>3.000000</td>\n",
       "      <td>120.900000</td>\n",
       "      <td>208.100000</td>\n",
       "      <td>72.300000</td>\n",
       "      <td>59.800000</td>\n",
       "      <td>4066.000000</td>\n",
       "      <td>326.000000</td>\n",
       "      <td>3.940000</td>\n",
       "      <td>4.170000</td>\n",
       "      <td>21.900000</td>\n",
       "      <td>288.000000</td>\n",
       "      <td>6000.000000</td>\n",
       "      <td>49.000000</td>\n",
       "      <td>54.000000</td>\n",
       "      <td>45400.700000</td>\n",
       "      <td>1.000000</td>\n",
       "    </tr>\n",
       "  </tbody>\n",
       "</table>\n",
       "</div>"
      ],
      "text/plain": [
       "           car_ID   symboling   wheelbase   carlength    carwidth   carheight  \\\n",
       "count  159.000000  159.000000  159.000000  159.000000  159.000000  159.000000   \n",
       "mean    87.798742    1.069182   97.523899  171.911950   65.583019   53.242138   \n",
       "std     52.832166    1.164450    5.254684   11.802962    2.061252    2.408566   \n",
       "min      0.000000   -1.000000   86.600000  141.100000   60.300000   47.800000   \n",
       "25%     41.500000    0.000000   94.500000  165.300000   63.900000   51.200000   \n",
       "50%     87.000000    1.000000   96.300000  172.400000   65.400000   53.300000   \n",
       "75%    134.500000    2.000000   99.100000  176.800000   66.500000   54.700000   \n",
       "max    179.000000    3.000000  120.900000  208.100000   72.300000   59.800000   \n",
       "\n",
       "        curbweight  enginesize   boreratio      stroke  compressionratio  \\\n",
       "count   159.000000  159.000000  159.000000  159.000000        159.000000   \n",
       "mean   2481.924528  124.685535    3.297044    3.262516          9.013333   \n",
       "std     502.153546   43.224339    0.264715    0.309003          1.596586   \n",
       "min    1488.000000   61.000000    2.540000    2.070000          7.000000   \n",
       "25%    2038.500000   97.000000    3.050000    3.110000          8.500000   \n",
       "50%    2395.000000  110.000000    3.310000    3.270000          9.000000   \n",
       "75%    2793.000000  136.000000    3.540000    3.410000          9.400000   \n",
       "max    4066.000000  326.000000    3.940000    4.170000         21.900000   \n",
       "\n",
       "       horsepower      peakrpm     citympg  highwaympg         price  \\\n",
       "count  159.000000   159.000000  159.000000  159.000000    159.000000   \n",
       "mean   104.238994  5169.496855   25.100629   30.773585  12434.286270   \n",
       "std     40.362355   431.105143    6.560522    6.713791   7589.797782   \n",
       "min     48.000000  4200.000000   13.000000   16.000000   5151.400000   \n",
       "25%     70.000000  4800.000000   19.000000   25.000000   7429.500000   \n",
       "50%     92.000000  5200.000000   24.000000   30.000000   9895.800000   \n",
       "75%    116.000000  5500.000000   30.000000   35.500000  15380.500000   \n",
       "max    288.000000  6000.000000   49.000000   54.000000  45400.700000   \n",
       "\n",
       "        Категория  \n",
       "count  159.000000  \n",
       "mean     0.352201  \n",
       "std      0.479165  \n",
       "min      0.000000  \n",
       "25%      0.000000  \n",
       "50%      0.000000  \n",
       "75%      1.000000  \n",
       "max      1.000000  "
      ]
     },
     "execution_count": 3,
     "metadata": {},
     "output_type": "execute_result"
    }
   ],
   "source": [
    "dataset.describe()"
   ]
  },
  {
   "cell_type": "code",
   "execution_count": 4,
   "metadata": {
    "collapsed": false,
    "jupyter": {
     "outputs_hidden": false
    },
    "tags": []
   },
   "outputs": [
    {
     "name": "stdout",
     "output_type": "stream",
     "text": [
      "<class 'pandas.core.frame.DataFrame'>\n",
      "RangeIndex: 159 entries, 0 to 158\n",
      "Data columns (total 17 columns):\n",
      " #   Column            Non-Null Count  Dtype  \n",
      "---  ------            --------------  -----  \n",
      " 0   car_ID            159 non-null    int64  \n",
      " 1   symboling         159 non-null    int64  \n",
      " 2   wheelbase         159 non-null    float64\n",
      " 3   carlength         159 non-null    float64\n",
      " 4   carwidth          159 non-null    float64\n",
      " 5   carheight         159 non-null    float64\n",
      " 6   curbweight        159 non-null    int64  \n",
      " 7   enginesize        159 non-null    int64  \n",
      " 8   boreratio         159 non-null    float64\n",
      " 9   stroke            159 non-null    float64\n",
      " 10  compressionratio  159 non-null    float64\n",
      " 11  horsepower        159 non-null    int64  \n",
      " 12  peakrpm           159 non-null    int64  \n",
      " 13  citympg           159 non-null    int64  \n",
      " 14  highwaympg        159 non-null    int64  \n",
      " 15  price             159 non-null    float64\n",
      " 16  Категория         159 non-null    int64  \n",
      "dtypes: float64(8), int64(9)\n",
      "memory usage: 21.2 KB\n"
     ]
    }
   ],
   "source": [
    "dataset.info()"
   ]
  },
  {
   "cell_type": "code",
   "execution_count": 5,
   "metadata": {
    "collapsed": false,
    "jupyter": {
     "outputs_hidden": false
    },
    "tags": []
   },
   "outputs": [
    {
     "name": "stdout",
     "output_type": "stream",
     "text": [
      "Меньше 12000: 103\n",
      "12000 и более: 56\n",
      "Пропорция: 1.84 к 1\n"
     ]
    },
    {
     "data": {
      "image/png": "[encoded data removed]",
      "text/plain": [
       "<Figure size 640x480 with 1 Axes>"
      ]
     },
     "metadata": {},
     "output_type": "display_data"
    }
   ],
   "source": [
    "import seaborn as sns\n",
    "import matplotlib.pyplot as plt\n",
    "\n",
    "# Проверка баланса выходной переменной\n",
    "target_count = dataset['Категория'].value_counts()\n",
    "print('Меньше 12000:', target_count[0])\n",
    "print('12000 и более:', target_count[1])\n",
    "print('Пропорция:', round(target_count[0] / target_count[1], 2), 'к 1')\n",
    "\n",
    "sns.countplot(dataset[['Категория']], x='Категория')\n",
    "plt.xlabel('Outcome 1/0',fontsize=11)\n",
    "plt.ylabel('Количество данных',fontsize=11)\n",
    "plt.show()"
   ]
  },
  {
   "cell_type": "code",
   "execution_count": 6,
   "metadata": {
    "collapsed": false,
    "jupyter": {
     "outputs_hidden": false
    },
    "tags": []
   },
   "outputs": [],
   "source": [
    "# андерсэмплинг по алгоритму tomeklinks\n",
    "from imblearn.under_sampling import TomekLinks\n",
    "\n",
    "X = dataset[dataset.columns.drop(labels='Категория')]\n",
    "y = dataset[['Категория']]"
   ]
  },
  {
   "cell_type": "code",
   "execution_count": 7,
   "metadata": {
    "collapsed": false,
    "jupyter": {
     "outputs_hidden": false
    },
    "tags": []
   },
   "outputs": [
    {
     "data": {
      "text/plain": [
       "(158, 17)"
      ]
     },
     "execution_count": 7,
     "metadata": {},
     "output_type": "execute_result"
    }
   ],
   "source": [
    "sampler = TomekLinks(sampling_strategy='majority')\n",
    "X1, y1 = sampler.fit_resample(X, y)\n",
    "undersampled_dataset = pd.concat([X1, y1], axis=1)\n",
    "undersampled_dataset.shape"
   ]
  },
  {
   "cell_type": "code",
   "execution_count": 8,
   "metadata": {
    "collapsed": false,
    "jupyter": {
     "outputs_hidden": false
    },
    "tags": []
   },
   "outputs": [],
   "source": [
    "# Проверка баланса выходной переменной\n",
    "# сделали процедуру, чтобы не писать одно и тоже 23424503450245987 раз\n",
    "def check_balance(df):\n",
    "    target_count = df['Категория'].value_counts()\n",
    "    print('Меньше 12000:', target_count[0])\n",
    "    print('12000 и более:', target_count[1])\n",
    "    print('Пропорция:', round(target_count[0] / target_count[1], 2), 'к 1')\n",
    "\n",
    "    sns.countplot(df[['Категория']], x='Категория')\n",
    "    plt.xlabel('Классы',fontsize=11)\n",
    "    plt.ylabel('Количество данных',fontsize=11)\n",
    "    plt.show()"
   ]
  },
  {
   "cell_type": "code",
   "execution_count": 9,
   "metadata": {
    "collapsed": false,
    "jupyter": {
     "outputs_hidden": false
    },
    "tags": []
   },
   "outputs": [
    {
     "name": "stdout",
     "output_type": "stream",
     "text": [
      "Меньше 12000: 102\n",
      "12000 и более: 56\n",
      "Пропорция: 1.82 к 1\n"
     ]
    },
    {
     "data": {
      "image/png": "[encoded data removed]",
      "text/plain": [
       "<Figure size 640x480 with 1 Axes>"
      ]
     },
     "metadata": {},
     "output_type": "display_data"
    }
   ],
   "source": [
    "check_balance(undersampled_dataset)"
   ]
  },
  {
   "cell_type": "code",
   "execution_count": 10,
   "metadata": {
    "collapsed": false,
    "jupyter": {
     "outputs_hidden": false
    },
    "tags": []
   },
   "outputs": [
    {
     "data": {
      "text/plain": [
       "(157, 17)"
      ]
     },
     "execution_count": 10,
     "metadata": {},
     "output_type": "execute_result"
    }
   ],
   "source": [
    "sampler = TomekLinks(sampling_strategy='all')\n",
    "X1, y1 = sampler.fit_resample(X, y)\n",
    "undersampled_dataset = pd.concat([X1, y1], axis=1)\n",
    "undersampled_dataset.shape"
   ]
  },
  {
   "cell_type": "code",
   "execution_count": 11,
   "metadata": {
    "collapsed": false,
    "jupyter": {
     "outputs_hidden": false
    },
    "tags": []
   },
   "outputs": [
    {
     "name": "stdout",
     "output_type": "stream",
     "text": [
      "Меньше 12000: 102\n",
      "12000 и более: 55\n",
      "Пропорция: 1.85 к 1\n"
     ]
    },
    {
     "data": {
      "image/png": "[encoded data removed]",
      "text/plain": [
       "<Figure size 640x480 with 1 Axes>"
      ]
     },
     "metadata": {},
     "output_type": "display_data"
    }
   ],
   "source": [
    "check_balance(undersampled_dataset)"
   ]
  },
  {
   "cell_type": "code",
   "execution_count": 12,
   "metadata": {
    "collapsed": false,
    "jupyter": {
     "outputs_hidden": false
    },
    "tags": []
   },
   "outputs": [],
   "source": [
    "from imblearn.over_sampling import SMOTE\n",
    "\n",
    "smote = SMOTE(sampling_strategy='minority')\n",
    "X_sm, y_sm = smote.fit_resample(X, y)\n",
    "df_new_oversampled=pd.concat([X_sm, y_sm], axis=1)"
   ]
  },
  {
   "cell_type": "code",
   "execution_count": 13,
   "metadata": {
    "collapsed": false,
    "jupyter": {
     "outputs_hidden": false
    },
    "tags": []
   },
   "outputs": [
    {
     "name": "stdout",
     "output_type": "stream",
     "text": [
      "Меньше 12000: 103\n",
      "12000 и более: 103\n",
      "Пропорция: 1.0 к 1\n"
     ]
    },
    {
     "data": {
      "image/png": "[encoded data removed]",
      "text/plain": [
       "<Figure size 640x480 with 1 Axes>"
      ]
     },
     "metadata": {},
     "output_type": "display_data"
    }
   ],
   "source": [
    "check_balance(df_new_oversampled)"
   ]
  },
  {
   "cell_type": "code",
   "execution_count": 14,
   "metadata": {
    "collapsed": false,
    "jupyter": {
     "outputs_hidden": false
    },
    "tags": []
   },
   "outputs": [],
   "source": [
    "from imblearn.over_sampling import RandomOverSampler\n",
    "\n",
    "rus = RandomOverSampler(sampling_strategy='all')\n",
    "X_res, y_res = rus.fit_resample(X, y)\n",
    "df_new_oversampled = pd.concat([X_sm, y_sm], axis=1)"
   ]
  },
  {
   "cell_type": "code",
   "execution_count": 15,
   "metadata": {
    "collapsed": false,
    "jupyter": {
     "outputs_hidden": false
    },
    "tags": []
   },
   "outputs": [
    {
     "name": "stdout",
     "output_type": "stream",
     "text": [
      "Меньше 12000: 103\n",
      "12000 и более: 103\n",
      "Пропорция: 1.0 к 1\n"
     ]
    },
    {
     "data": {
      "image/png": "[encoded data removed]",
      "text/plain": [
       "<Figure size 640x480 with 1 Axes>"
      ]
     },
     "metadata": {},
     "output_type": "display_data"
    }
   ],
   "source": [
    "check_balance(df_new_oversampled)"
   ]
  },
  {
   "cell_type": "code",
   "execution_count": null,
   "metadata": {},
   "outputs": [],
   "source": []
  }
 ],
 "metadata": {
  "kernelspec": {
   "display_name": "Python 3 (ipykernel)",
   "language": "python",
   "name": "python3"
  },
  "language_info": {
   "codemirror_mode": {
    "name": "ipython",
    "version": 3
   },
   "file_extension": ".py",
   "mimetype": "text/x-python",
   "name": "python",
   "nbconvert_exporter": "python",
   "pygments_lexer": "ipython3",
   "version": "3.11.5"
  }
 },
 "nbformat": 4,
 "nbformat_minor": 4
}
