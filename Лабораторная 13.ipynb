{
 "cells": [
  {
   "cell_type": "code",
   "execution_count": 1,
   "metadata": {
    "executionInfo": {
     "elapsed": 752,
     "status": "ok",
     "timestamp": 1695919347099,
     "user": {
      "displayName": "An Gor",
      "userId": "13961888339741248533"
     },
     "user_tz": -180
    },
    "id": "lw-VER6ROiVX",
    "tags": []
   },
   "outputs": [],
   "source": [
    "import pandas as pd\n",
    "import matplotlib.pyplot as plt\n",
    "import numpy as np\n",
    "\n",
    "dataset = pd.read_csv('new_car.csv')"
   ]
  },
  {
   "cell_type": "code",
   "execution_count": 2,
   "metadata": {
    "colab": {
     "base_uri": "https://localhost:8080/"
    },
    "executionInfo": {
     "elapsed": 7,
     "status": "ok",
     "timestamp": 1695919354791,
     "user": {
      "displayName": "An Gor",
      "userId": "13961888339741248533"
     },
     "user_tz": -180
    },
    "id": "HAGq0hIDOiVZ",
    "outputId": "e11a3827-36fd-4e50-a612-d31d35c7415c"
   },
   "outputs": [
    {
     "name": "stdout",
     "output_type": "stream",
     "text": [
      "(151, 17)\n"
     ]
    },
    {
     "data": {
      "text/plain": [
       "Unnamed: 0            int64\n",
       "car_ID                int64\n",
       "symboling             int64\n",
       "wheelbase           float64\n",
       "carlength           float64\n",
       "carwidth            float64\n",
       "carheight           float64\n",
       "curbweight            int64\n",
       "enginesize            int64\n",
       "boreratio           float64\n",
       "stroke              float64\n",
       "compressionratio    float64\n",
       "horsepower            int64\n",
       "peakrpm               int64\n",
       "citympg               int64\n",
       "highwaympg            int64\n",
       "price               float64\n",
       "dtype: object"
      ]
     },
     "execution_count": 2,
     "metadata": {},
     "output_type": "execute_result"
    }
   ],
   "source": [
    "print(dataset.shape)\n",
    "dataset.dtypes"
   ]
  },
  {
   "cell_type": "code",
   "execution_count": 3,
   "metadata": {},
   "outputs": [
    {
     "name": "stdout",
     "output_type": "stream",
     "text": [
      "['Unnamed: 0' 'car_ID' 'symboling' 'wheelbase' 'carlength' 'carwidth'\n",
      " 'carheight' 'curbweight' 'enginesize' 'boreratio' 'stroke'\n",
      " 'compressionratio' 'horsepower' 'peakrpm' 'citympg' 'highwaympg' 'price']\n"
     ]
    }
   ],
   "source": [
    "df_numeric = dataset.select_dtypes(include=[np.number])\n",
    "numeric_cols = df_numeric.columns.values\n",
    "print(numeric_cols)"
   ]
  },
  {
   "cell_type": "code",
   "execution_count": 4,
   "metadata": {
    "colab": {
     "base_uri": "https://localhost:8080/",
     "height": 495
    },
    "executionInfo": {
     "elapsed": 701,
     "status": "ok",
     "timestamp": 1695919359415,
     "user": {
      "displayName": "An Gor",
      "userId": "13961888339741248533"
     },
     "user_tz": -180
    },
    "id": "bMGMwoUlOiVZ",
    "outputId": "1b20c407-61f9-40b2-8ab2-42ac4b2a8ffe"
   },
   "outputs": [
    {
     "data": {
      "text/html": [
       "<div>\n",
       "<style scoped>\n",
       "    .dataframe tbody tr th:only-of-type {\n",
       "        vertical-align: middle;\n",
       "    }\n",
       "\n",
       "    .dataframe tbody tr th {\n",
       "        vertical-align: top;\n",
       "    }\n",
       "\n",
       "    .dataframe thead th {\n",
       "        text-align: right;\n",
       "    }\n",
       "</style>\n",
       "<table border=\"1\" class=\"dataframe\">\n",
       "  <thead>\n",
       "    <tr style=\"text-align: right;\">\n",
       "      <th></th>\n",
       "      <th>symboling</th>\n",
       "      <th>wheelbase</th>\n",
       "      <th>carlength</th>\n",
       "      <th>carwidth</th>\n",
       "      <th>carheight</th>\n",
       "      <th>curbweight</th>\n",
       "      <th>enginesize</th>\n",
       "      <th>boreratio</th>\n",
       "      <th>stroke</th>\n",
       "      <th>compressionratio</th>\n",
       "      <th>horsepower</th>\n",
       "      <th>peakrpm</th>\n",
       "      <th>citympg</th>\n",
       "      <th>highwaympg</th>\n",
       "    </tr>\n",
       "  </thead>\n",
       "  <tbody>\n",
       "    <tr>\n",
       "      <th>0</th>\n",
       "      <td>3</td>\n",
       "      <td>88.6</td>\n",
       "      <td>168.8</td>\n",
       "      <td>64.1</td>\n",
       "      <td>48.8</td>\n",
       "      <td>2548</td>\n",
       "      <td>130</td>\n",
       "      <td>3.47</td>\n",
       "      <td>2.68</td>\n",
       "      <td>9.0</td>\n",
       "      <td>111</td>\n",
       "      <td>5000</td>\n",
       "      <td>21</td>\n",
       "      <td>27</td>\n",
       "    </tr>\n",
       "    <tr>\n",
       "      <th>1</th>\n",
       "      <td>3</td>\n",
       "      <td>88.6</td>\n",
       "      <td>168.8</td>\n",
       "      <td>64.1</td>\n",
       "      <td>48.8</td>\n",
       "      <td>2548</td>\n",
       "      <td>130</td>\n",
       "      <td>3.47</td>\n",
       "      <td>2.68</td>\n",
       "      <td>9.0</td>\n",
       "      <td>111</td>\n",
       "      <td>5000</td>\n",
       "      <td>21</td>\n",
       "      <td>27</td>\n",
       "    </tr>\n",
       "    <tr>\n",
       "      <th>2</th>\n",
       "      <td>1</td>\n",
       "      <td>94.5</td>\n",
       "      <td>171.2</td>\n",
       "      <td>65.5</td>\n",
       "      <td>52.4</td>\n",
       "      <td>2823</td>\n",
       "      <td>152</td>\n",
       "      <td>2.68</td>\n",
       "      <td>3.47</td>\n",
       "      <td>9.0</td>\n",
       "      <td>154</td>\n",
       "      <td>5000</td>\n",
       "      <td>19</td>\n",
       "      <td>26</td>\n",
       "    </tr>\n",
       "    <tr>\n",
       "      <th>3</th>\n",
       "      <td>2</td>\n",
       "      <td>99.8</td>\n",
       "      <td>176.6</td>\n",
       "      <td>66.2</td>\n",
       "      <td>54.3</td>\n",
       "      <td>2337</td>\n",
       "      <td>109</td>\n",
       "      <td>3.19</td>\n",
       "      <td>3.40</td>\n",
       "      <td>10.0</td>\n",
       "      <td>102</td>\n",
       "      <td>5500</td>\n",
       "      <td>24</td>\n",
       "      <td>30</td>\n",
       "    </tr>\n",
       "    <tr>\n",
       "      <th>4</th>\n",
       "      <td>2</td>\n",
       "      <td>99.4</td>\n",
       "      <td>176.6</td>\n",
       "      <td>66.4</td>\n",
       "      <td>54.3</td>\n",
       "      <td>2824</td>\n",
       "      <td>136</td>\n",
       "      <td>3.19</td>\n",
       "      <td>3.40</td>\n",
       "      <td>8.0</td>\n",
       "      <td>115</td>\n",
       "      <td>5500</td>\n",
       "      <td>18</td>\n",
       "      <td>22</td>\n",
       "    </tr>\n",
       "    <tr>\n",
       "      <th>...</th>\n",
       "      <td>...</td>\n",
       "      <td>...</td>\n",
       "      <td>...</td>\n",
       "      <td>...</td>\n",
       "      <td>...</td>\n",
       "      <td>...</td>\n",
       "      <td>...</td>\n",
       "      <td>...</td>\n",
       "      <td>...</td>\n",
       "      <td>...</td>\n",
       "      <td>...</td>\n",
       "      <td>...</td>\n",
       "      <td>...</td>\n",
       "      <td>...</td>\n",
       "    </tr>\n",
       "    <tr>\n",
       "      <th>146</th>\n",
       "      <td>-1</td>\n",
       "      <td>104.5</td>\n",
       "      <td>187.8</td>\n",
       "      <td>66.5</td>\n",
       "      <td>54.1</td>\n",
       "      <td>3131</td>\n",
       "      <td>171</td>\n",
       "      <td>3.27</td>\n",
       "      <td>3.35</td>\n",
       "      <td>9.2</td>\n",
       "      <td>156</td>\n",
       "      <td>5200</td>\n",
       "      <td>20</td>\n",
       "      <td>24</td>\n",
       "    </tr>\n",
       "    <tr>\n",
       "      <th>147</th>\n",
       "      <td>-1</td>\n",
       "      <td>104.5</td>\n",
       "      <td>187.8</td>\n",
       "      <td>66.5</td>\n",
       "      <td>54.1</td>\n",
       "      <td>3151</td>\n",
       "      <td>161</td>\n",
       "      <td>3.27</td>\n",
       "      <td>3.35</td>\n",
       "      <td>9.2</td>\n",
       "      <td>156</td>\n",
       "      <td>5200</td>\n",
       "      <td>19</td>\n",
       "      <td>24</td>\n",
       "    </tr>\n",
       "    <tr>\n",
       "      <th>148</th>\n",
       "      <td>2</td>\n",
       "      <td>97.3</td>\n",
       "      <td>171.7</td>\n",
       "      <td>65.5</td>\n",
       "      <td>55.7</td>\n",
       "      <td>2209</td>\n",
       "      <td>109</td>\n",
       "      <td>3.19</td>\n",
       "      <td>3.40</td>\n",
       "      <td>9.0</td>\n",
       "      <td>85</td>\n",
       "      <td>5250</td>\n",
       "      <td>27</td>\n",
       "      <td>34</td>\n",
       "    </tr>\n",
       "    <tr>\n",
       "      <th>149</th>\n",
       "      <td>3</td>\n",
       "      <td>94.5</td>\n",
       "      <td>159.3</td>\n",
       "      <td>64.2</td>\n",
       "      <td>55.6</td>\n",
       "      <td>2254</td>\n",
       "      <td>109</td>\n",
       "      <td>3.19</td>\n",
       "      <td>3.40</td>\n",
       "      <td>8.5</td>\n",
       "      <td>90</td>\n",
       "      <td>5500</td>\n",
       "      <td>24</td>\n",
       "      <td>29</td>\n",
       "    </tr>\n",
       "    <tr>\n",
       "      <th>150</th>\n",
       "      <td>3</td>\n",
       "      <td>94.5</td>\n",
       "      <td>165.7</td>\n",
       "      <td>64.0</td>\n",
       "      <td>51.4</td>\n",
       "      <td>2221</td>\n",
       "      <td>109</td>\n",
       "      <td>3.19</td>\n",
       "      <td>3.40</td>\n",
       "      <td>8.5</td>\n",
       "      <td>90</td>\n",
       "      <td>5500</td>\n",
       "      <td>24</td>\n",
       "      <td>29</td>\n",
       "    </tr>\n",
       "  </tbody>\n",
       "</table>\n",
       "<p>151 rows × 14 columns</p>\n",
       "</div>"
      ],
      "text/plain": [
       "     symboling  wheelbase  carlength  carwidth  carheight  curbweight  \\\n",
       "0            3       88.6      168.8      64.1       48.8        2548   \n",
       "1            3       88.6      168.8      64.1       48.8        2548   \n",
       "2            1       94.5      171.2      65.5       52.4        2823   \n",
       "3            2       99.8      176.6      66.2       54.3        2337   \n",
       "4            2       99.4      176.6      66.4       54.3        2824   \n",
       "..         ...        ...        ...       ...        ...         ...   \n",
       "146         -1      104.5      187.8      66.5       54.1        3131   \n",
       "147         -1      104.5      187.8      66.5       54.1        3151   \n",
       "148          2       97.3      171.7      65.5       55.7        2209   \n",
       "149          3       94.5      159.3      64.2       55.6        2254   \n",
       "150          3       94.5      165.7      64.0       51.4        2221   \n",
       "\n",
       "     enginesize  boreratio  stroke  compressionratio  horsepower  peakrpm  \\\n",
       "0           130       3.47    2.68               9.0         111     5000   \n",
       "1           130       3.47    2.68               9.0         111     5000   \n",
       "2           152       2.68    3.47               9.0         154     5000   \n",
       "3           109       3.19    3.40              10.0         102     5500   \n",
       "4           136       3.19    3.40               8.0         115     5500   \n",
       "..          ...        ...     ...               ...         ...      ...   \n",
       "146         171       3.27    3.35               9.2         156     5200   \n",
       "147         161       3.27    3.35               9.2         156     5200   \n",
       "148         109       3.19    3.40               9.0          85     5250   \n",
       "149         109       3.19    3.40               8.5          90     5500   \n",
       "150         109       3.19    3.40               8.5          90     5500   \n",
       "\n",
       "     citympg  highwaympg  \n",
       "0         21          27  \n",
       "1         21          27  \n",
       "2         19          26  \n",
       "3         24          30  \n",
       "4         18          22  \n",
       "..       ...         ...  \n",
       "146       20          24  \n",
       "147       19          24  \n",
       "148       27          34  \n",
       "149       24          29  \n",
       "150       24          29  \n",
       "\n",
       "[151 rows x 14 columns]"
      ]
     },
     "execution_count": 4,
     "metadata": {},
     "output_type": "execute_result"
    }
   ],
   "source": [
    "X = dataset.drop(columns=['car_ID', 'price', 'Unnamed: 0'])\n",
    "y = dataset['price']\n",
    "X"
   ]
  },
  {
   "cell_type": "code",
   "execution_count": 5,
   "metadata": {
    "colab": {
     "base_uri": "https://localhost:8080/",
     "height": 440
    },
    "executionInfo": {
     "elapsed": 2930,
     "status": "ok",
     "timestamp": 1695919380677,
     "user": {
      "displayName": "An Gor",
      "userId": "13961888339741248533"
     },
     "user_tz": -180
    },
    "id": "lSMEvAW7OiVa",
    "outputId": "2a5c606b-06e0-4591-9ad1-1e8d60733dcd"
   },
   "outputs": [
    {
     "data": {
      "text/plain": [
       "<Axes: >"
      ]
     },
     "execution_count": 5,
     "metadata": {},
     "output_type": "execute_result"
    },
    {
     "data": {
      "image/png": "[encoded data removed]",
      "text/plain": [
       "<Figure size 640x480 with 1 Axes>"
      ]
     },
     "metadata": {},
     "output_type": "display_data"
    }
   ],
   "source": [
    "# метод фильтрации\n",
    "from sklearn.feature_selection import mutual_info_regression\n",
    "\n",
    "importance = mutual_info_regression(X, y)\n",
    "feature_importance = pd.Series(importance, X.columns)\n",
    "feature_importance.plot(kind='barh', color='teal')"
   ]
  },
  {
   "cell_type": "code",
   "execution_count": 6,
   "metadata": {
    "id": "PdUq-6IIOiVa",
    "outputId": "0036fc43-2a07-4d9d-b7b8-8364838369b7"
   },
   "outputs": [
    {
     "data": {
      "text/plain": [
       "horsepower          0.921336\n",
       "curbweight          0.841804\n",
       "citympg             0.828747\n",
       "highwaympg          0.806004\n",
       "enginesize          0.749585\n",
       "carwidth            0.618182\n",
       "wheelbase           0.497637\n",
       "carlength           0.497401\n",
       "boreratio           0.488554\n",
       "stroke              0.374256\n",
       "compressionratio    0.307857\n",
       "carheight           0.168140\n",
       "symboling           0.161660\n",
       "peakrpm             0.155445\n",
       "dtype: float64"
      ]
     },
     "execution_count": 6,
     "metadata": {},
     "output_type": "execute_result"
    }
   ],
   "source": [
    "feature_importance.sort_values(ascending=False)"
   ]
  },
  {
   "cell_type": "code",
   "execution_count": 7,
   "metadata": {
    "id": "wdcWIaEVOiVa"
   },
   "outputs": [],
   "source": [
    "from sklearn.model_selection import train_test_split\n",
    "\n",
    "X_train, X_test, y_train, y_test = train_test_split(X, y, test_size=0.3,random_state=0)"
   ]
  },
  {
   "cell_type": "code",
   "execution_count": 8,
   "metadata": {
    "id": "dMxfk_RHOiVa",
    "outputId": "18e2a466-f895-40a3-b88d-1c3d9acf27a0"
   },
   "outputs": [
    {
     "name": "stdout",
     "output_type": "stream",
     "text": [
      "<class 'sklearn.feature_selection._rfe.RFE'>\n",
      "Index(['wheelbase', 'carlength', 'enginesize', 'compressionratio',\n",
      "       'horsepower'],\n",
      "      dtype='object')\n"
     ]
    }
   ],
   "source": [
    "# рекурсивное исключение признаков (прямой метод)\n",
    "# SVR - это SVM для регрессии\n",
    "from sklearn.svm import SVR\n",
    "from sklearn.feature_selection import RFE\n",
    "\n",
    "threshold = 5 # the number of most relevant features\n",
    "\n",
    "lr = SVR(kernel=\"linear\")\n",
    "\n",
    "rfe = RFE(lr, n_features_to_select=threshold)\n",
    "result=rfe.fit(X, y)\n",
    "# X_train, y_train - входные и выходные данные с обучающей выборки соответственно.\n",
    "print(type(result))\n",
    "selector_ind = result.get_support()\n",
    "df_rfe = X.iloc[:, selector_ind]\n",
    "print(df_rfe.columns)"
   ]
  },
  {
   "cell_type": "markdown",
   "metadata": {},
   "source": [
    "На основе результатов, полученных двумя методами отбора признаков, мы делаем вывод, что наиболее полезные признаки это 'wheelbase'(колесная база), 'carlength'(длина автомобиля), 'enginesize'(размер двигателя), 'compressionratio'(коэффициент сжатия),'horsepower'(лошадиная сила). "
   ]
  }
 ],
 "metadata": {
  "colab": {
   "provenance": []
  },
  "kernelspec": {
   "display_name": "Python 3 (ipykernel)",
   "language": "python",
   "name": "python3"
  },
  "language_info": {
   "codemirror_mode": {
    "name": "ipython",
    "version": 3
   },
   "file_extension": ".py",
   "mimetype": "text/x-python",
   "name": "python",
   "nbconvert_exporter": "python",
   "pygments_lexer": "ipython3",
   "version": "3.11.5"
  }
 },
 "nbformat": 4,
 "nbformat_minor": 4
}
